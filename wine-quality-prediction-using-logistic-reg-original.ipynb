{
 "cells": [
  {
   "cell_type": "code",
   "execution_count": 1,
   "metadata": {
    "_cell_guid": "b1076dfc-b9ad-4769-8c92-a6c4dae69d19",
    "_uuid": "8f2839f25d086af736a60e9eeb907d3b93b6e0e5",
    "execution": {
     "iopub.execute_input": "2021-01-18T08:45:16.240227Z",
     "iopub.status.busy": "2021-01-18T08:45:16.239449Z",
     "iopub.status.idle": "2021-01-18T08:45:16.253899Z",
     "shell.execute_reply": "2021-01-18T08:45:16.253230Z"
    },
    "papermill": {
     "duration": 0.063673,
     "end_time": "2021-01-18T08:45:16.254024",
     "exception": false,
     "start_time": "2021-01-18T08:45:16.190351",
     "status": "completed"
    },
    "tags": []
   },
   "outputs": [
    {
     "name": "stdout",
     "output_type": "stream",
     "text": [
      "input\\winequalityN.csv\n"
     ]
    }
   ],
   "source": [
    "# This Python 3 environment comes with many helpful analytics libraries installed\n",
    "# It is defined by the kaggle/python Docker image: https://github.com/kaggle/docker-python\n",
    "# For example, here's several helpful packages to load\n",
    "\n",
    "import numpy as np # linear algebra\n",
    "import pandas as pd # data processing, CSV file I/O (e.g. pd.read_csv)\n",
    "\n",
    "# Input data files are available in the read-only \"../input/\" directory\n",
    "# For example, running this (by clicking run or pressing Shift+Enter) will list all files under the input directory\n",
    "\n",
    "import os\n",
    "for dirname, _, filenames in os.walk('input'):\n",
    "    for filename in filenames:\n",
    "        print(os.path.join(dirname, filename))\n",
    "\n",
    "# You can write up to 20GB to the current directory (/kaggle/working/) that gets preserved as output when you create a version using \"Save & Run All\" \n",
    "# You can also write temporary files to /kaggle/temp/, but they won't be saved outside of the current session"
   ]
  },
  {
   "cell_type": "code",
   "execution_count": 2,
   "metadata": {
    "_cell_guid": "79c7e3d0-c299-4dcb-8224-4455121ee9b0",
    "_uuid": "d629ff2d2480ee46fbb7e2d37f6b5fab8052498a",
    "execution": {
     "iopub.execute_input": "2021-01-18T08:45:16.343029Z",
     "iopub.status.busy": "2021-01-18T08:45:16.342392Z",
     "iopub.status.idle": "2021-01-18T08:45:17.929470Z",
     "shell.execute_reply": "2021-01-18T08:45:17.927771Z"
    },
    "papermill": {
     "duration": 1.634398,
     "end_time": "2021-01-18T08:45:17.929653",
     "exception": false,
     "start_time": "2021-01-18T08:45:16.295255",
     "status": "completed"
    },
    "tags": []
   },
   "outputs": [],
   "source": [
    "#importing all necessory libraries\n",
    "\n",
    "import numpy as np\n",
    "import pandas as pd\n",
    "from sklearn.model_selection import train_test_split\n",
    "from sklearn.linear_model import LogisticRegression"
   ]
  },
  {
   "cell_type": "code",
   "execution_count": 3,
   "metadata": {
    "execution": {
     "iopub.execute_input": "2021-01-18T08:45:18.048585Z",
     "iopub.status.busy": "2021-01-18T08:45:18.047579Z",
     "iopub.status.idle": "2021-01-18T08:45:18.227723Z",
     "shell.execute_reply": "2021-01-18T08:45:18.226810Z"
    },
    "papermill": {
     "duration": 0.242045,
     "end_time": "2021-01-18T08:45:18.227836",
     "exception": false,
     "start_time": "2021-01-18T08:45:17.985791",
     "status": "completed"
    },
    "tags": []
   },
   "outputs": [],
   "source": [
    "from sklearn.metrics import accuracy_score,auc,confusion_matrix,precision_score,recall_score,roc_curve,classification_report\n",
    "import matplotlib.pyplot as plt\n",
    "import seaborn as sns"
   ]
  },
  {
   "cell_type": "code",
   "execution_count": 4,
   "metadata": {
    "execution": {
     "iopub.execute_input": "2021-01-18T08:45:18.319201Z",
     "iopub.status.busy": "2021-01-18T08:45:18.318361Z",
     "iopub.status.idle": "2021-01-18T08:45:18.352249Z",
     "shell.execute_reply": "2021-01-18T08:45:18.351350Z"
    },
    "papermill": {
     "duration": 0.08207,
     "end_time": "2021-01-18T08:45:18.352388",
     "exception": false,
     "start_time": "2021-01-18T08:45:18.270318",
     "status": "completed"
    },
    "tags": []
   },
   "outputs": [],
   "source": [
    "wine = pd.read_csv(\"input/winequalityN.csv\")"
   ]
  },
  {
   "cell_type": "code",
   "execution_count": 5,
   "metadata": {
    "execution": {
     "iopub.execute_input": "2021-01-18T08:45:18.509514Z",
     "iopub.status.busy": "2021-01-18T08:45:18.508333Z",
     "iopub.status.idle": "2021-01-18T08:45:18.534355Z",
     "shell.execute_reply": "2021-01-18T08:45:18.533554Z"
    },
    "papermill": {
     "duration": 0.118879,
     "end_time": "2021-01-18T08:45:18.534495",
     "exception": false,
     "start_time": "2021-01-18T08:45:18.415616",
     "status": "completed"
    },
    "tags": []
   },
   "outputs": [
    {
     "data": {
      "text/plain": "    type  fixed acidity  volatile acidity  citric acid  residual sugar  \\\n0  white            7.0              0.27         0.36            20.7   \n1  white            6.3              0.30         0.34             1.6   \n2  white            8.1              0.28         0.40             6.9   \n3  white            7.2              0.23         0.32             8.5   \n4  white            7.2              0.23         0.32             8.5   \n\n   chlorides  free sulfur dioxide  total sulfur dioxide  density    pH  \\\n0      0.045                 45.0                 170.0   1.0010  3.00   \n1      0.049                 14.0                 132.0   0.9940  3.30   \n2      0.050                 30.0                  97.0   0.9951  3.26   \n3      0.058                 47.0                 186.0   0.9956  3.19   \n4      0.058                 47.0                 186.0   0.9956  3.19   \n\n   sulphates  alcohol  quality  \n0       0.45      8.8        6  \n1       0.49      9.5        6  \n2       0.44     10.1        6  \n3       0.40      9.9        6  \n4       0.40      9.9        6  ",
      "text/html": "<div>\n<style scoped>\n    .dataframe tbody tr th:only-of-type {\n        vertical-align: middle;\n    }\n\n    .dataframe tbody tr th {\n        vertical-align: top;\n    }\n\n    .dataframe thead th {\n        text-align: right;\n    }\n</style>\n<table border=\"1\" class=\"dataframe\">\n  <thead>\n    <tr style=\"text-align: right;\">\n      <th></th>\n      <th>type</th>\n      <th>fixed acidity</th>\n      <th>volatile acidity</th>\n      <th>citric acid</th>\n      <th>residual sugar</th>\n      <th>chlorides</th>\n      <th>free sulfur dioxide</th>\n      <th>total sulfur dioxide</th>\n      <th>density</th>\n      <th>pH</th>\n      <th>sulphates</th>\n      <th>alcohol</th>\n      <th>quality</th>\n    </tr>\n  </thead>\n  <tbody>\n    <tr>\n      <th>0</th>\n      <td>white</td>\n      <td>7.0</td>\n      <td>0.27</td>\n      <td>0.36</td>\n      <td>20.7</td>\n      <td>0.045</td>\n      <td>45.0</td>\n      <td>170.0</td>\n      <td>1.0010</td>\n      <td>3.00</td>\n      <td>0.45</td>\n      <td>8.8</td>\n      <td>6</td>\n    </tr>\n    <tr>\n      <th>1</th>\n      <td>white</td>\n      <td>6.3</td>\n      <td>0.30</td>\n      <td>0.34</td>\n      <td>1.6</td>\n      <td>0.049</td>\n      <td>14.0</td>\n      <td>132.0</td>\n      <td>0.9940</td>\n      <td>3.30</td>\n      <td>0.49</td>\n      <td>9.5</td>\n      <td>6</td>\n    </tr>\n    <tr>\n      <th>2</th>\n      <td>white</td>\n      <td>8.1</td>\n      <td>0.28</td>\n      <td>0.40</td>\n      <td>6.9</td>\n      <td>0.050</td>\n      <td>30.0</td>\n      <td>97.0</td>\n      <td>0.9951</td>\n      <td>3.26</td>\n      <td>0.44</td>\n      <td>10.1</td>\n      <td>6</td>\n    </tr>\n    <tr>\n      <th>3</th>\n      <td>white</td>\n      <td>7.2</td>\n      <td>0.23</td>\n      <td>0.32</td>\n      <td>8.5</td>\n      <td>0.058</td>\n      <td>47.0</td>\n      <td>186.0</td>\n      <td>0.9956</td>\n      <td>3.19</td>\n      <td>0.40</td>\n      <td>9.9</td>\n      <td>6</td>\n    </tr>\n    <tr>\n      <th>4</th>\n      <td>white</td>\n      <td>7.2</td>\n      <td>0.23</td>\n      <td>0.32</td>\n      <td>8.5</td>\n      <td>0.058</td>\n      <td>47.0</td>\n      <td>186.0</td>\n      <td>0.9956</td>\n      <td>3.19</td>\n      <td>0.40</td>\n      <td>9.9</td>\n      <td>6</td>\n    </tr>\n  </tbody>\n</table>\n</div>"
     },
     "execution_count": 5,
     "metadata": {},
     "output_type": "execute_result"
    }
   ],
   "source": [
    "wine.head()"
   ]
  },
  {
   "cell_type": "code",
   "execution_count": 6,
   "metadata": {
    "execution": {
     "iopub.execute_input": "2021-01-18T08:45:18.683961Z",
     "iopub.status.busy": "2021-01-18T08:45:18.682954Z",
     "iopub.status.idle": "2021-01-18T08:45:18.745042Z",
     "shell.execute_reply": "2021-01-18T08:45:18.744384Z"
    },
    "papermill": {
     "duration": 0.145863,
     "end_time": "2021-01-18T08:45:18.745181",
     "exception": false,
     "start_time": "2021-01-18T08:45:18.599318",
     "status": "completed"
    },
    "tags": []
   },
   "outputs": [
    {
     "data": {
      "text/plain": "       fixed acidity  volatile acidity  citric acid  residual sugar  \\\ncount    6487.000000       6489.000000  6494.000000     6495.000000   \nmean        7.216579          0.339691     0.318722        5.444326   \nstd         1.296750          0.164649     0.145265        4.758125   \nmin         3.800000          0.080000     0.000000        0.600000   \n25%         6.400000          0.230000     0.250000        1.800000   \n50%         7.000000          0.290000     0.310000        3.000000   \n75%         7.700000          0.400000     0.390000        8.100000   \nmax        15.900000          1.580000     1.660000       65.800000   \n\n         chlorides  free sulfur dioxide  total sulfur dioxide      density  \\\ncount  6495.000000          6497.000000           6497.000000  6497.000000   \nmean      0.056042            30.525319            115.744574     0.994697   \nstd       0.035036            17.749400             56.521855     0.002999   \nmin       0.009000             1.000000              6.000000     0.987110   \n25%       0.038000            17.000000             77.000000     0.992340   \n50%       0.047000            29.000000            118.000000     0.994890   \n75%       0.065000            41.000000            156.000000     0.996990   \nmax       0.611000           289.000000            440.000000     1.038980   \n\n                pH    sulphates      alcohol      quality  \ncount  6488.000000  6493.000000  6497.000000  6497.000000  \nmean      3.218395     0.531215    10.491801     5.818378  \nstd       0.160748     0.148814     1.192712     0.873255  \nmin       2.720000     0.220000     8.000000     3.000000  \n25%       3.110000     0.430000     9.500000     5.000000  \n50%       3.210000     0.510000    10.300000     6.000000  \n75%       3.320000     0.600000    11.300000     6.000000  \nmax       4.010000     2.000000    14.900000     9.000000  ",
      "text/html": "<div>\n<style scoped>\n    .dataframe tbody tr th:only-of-type {\n        vertical-align: middle;\n    }\n\n    .dataframe tbody tr th {\n        vertical-align: top;\n    }\n\n    .dataframe thead th {\n        text-align: right;\n    }\n</style>\n<table border=\"1\" class=\"dataframe\">\n  <thead>\n    <tr style=\"text-align: right;\">\n      <th></th>\n      <th>fixed acidity</th>\n      <th>volatile acidity</th>\n      <th>citric acid</th>\n      <th>residual sugar</th>\n      <th>chlorides</th>\n      <th>free sulfur dioxide</th>\n      <th>total sulfur dioxide</th>\n      <th>density</th>\n      <th>pH</th>\n      <th>sulphates</th>\n      <th>alcohol</th>\n      <th>quality</th>\n    </tr>\n  </thead>\n  <tbody>\n    <tr>\n      <th>count</th>\n      <td>6487.000000</td>\n      <td>6489.000000</td>\n      <td>6494.000000</td>\n      <td>6495.000000</td>\n      <td>6495.000000</td>\n      <td>6497.000000</td>\n      <td>6497.000000</td>\n      <td>6497.000000</td>\n      <td>6488.000000</td>\n      <td>6493.000000</td>\n      <td>6497.000000</td>\n      <td>6497.000000</td>\n    </tr>\n    <tr>\n      <th>mean</th>\n      <td>7.216579</td>\n      <td>0.339691</td>\n      <td>0.318722</td>\n      <td>5.444326</td>\n      <td>0.056042</td>\n      <td>30.525319</td>\n      <td>115.744574</td>\n      <td>0.994697</td>\n      <td>3.218395</td>\n      <td>0.531215</td>\n      <td>10.491801</td>\n      <td>5.818378</td>\n    </tr>\n    <tr>\n      <th>std</th>\n      <td>1.296750</td>\n      <td>0.164649</td>\n      <td>0.145265</td>\n      <td>4.758125</td>\n      <td>0.035036</td>\n      <td>17.749400</td>\n      <td>56.521855</td>\n      <td>0.002999</td>\n      <td>0.160748</td>\n      <td>0.148814</td>\n      <td>1.192712</td>\n      <td>0.873255</td>\n    </tr>\n    <tr>\n      <th>min</th>\n      <td>3.800000</td>\n      <td>0.080000</td>\n      <td>0.000000</td>\n      <td>0.600000</td>\n      <td>0.009000</td>\n      <td>1.000000</td>\n      <td>6.000000</td>\n      <td>0.987110</td>\n      <td>2.720000</td>\n      <td>0.220000</td>\n      <td>8.000000</td>\n      <td>3.000000</td>\n    </tr>\n    <tr>\n      <th>25%</th>\n      <td>6.400000</td>\n      <td>0.230000</td>\n      <td>0.250000</td>\n      <td>1.800000</td>\n      <td>0.038000</td>\n      <td>17.000000</td>\n      <td>77.000000</td>\n      <td>0.992340</td>\n      <td>3.110000</td>\n      <td>0.430000</td>\n      <td>9.500000</td>\n      <td>5.000000</td>\n    </tr>\n    <tr>\n      <th>50%</th>\n      <td>7.000000</td>\n      <td>0.290000</td>\n      <td>0.310000</td>\n      <td>3.000000</td>\n      <td>0.047000</td>\n      <td>29.000000</td>\n      <td>118.000000</td>\n      <td>0.994890</td>\n      <td>3.210000</td>\n      <td>0.510000</td>\n      <td>10.300000</td>\n      <td>6.000000</td>\n    </tr>\n    <tr>\n      <th>75%</th>\n      <td>7.700000</td>\n      <td>0.400000</td>\n      <td>0.390000</td>\n      <td>8.100000</td>\n      <td>0.065000</td>\n      <td>41.000000</td>\n      <td>156.000000</td>\n      <td>0.996990</td>\n      <td>3.320000</td>\n      <td>0.600000</td>\n      <td>11.300000</td>\n      <td>6.000000</td>\n    </tr>\n    <tr>\n      <th>max</th>\n      <td>15.900000</td>\n      <td>1.580000</td>\n      <td>1.660000</td>\n      <td>65.800000</td>\n      <td>0.611000</td>\n      <td>289.000000</td>\n      <td>440.000000</td>\n      <td>1.038980</td>\n      <td>4.010000</td>\n      <td>2.000000</td>\n      <td>14.900000</td>\n      <td>9.000000</td>\n    </tr>\n  </tbody>\n</table>\n</div>"
     },
     "execution_count": 6,
     "metadata": {},
     "output_type": "execute_result"
    }
   ],
   "source": [
    "wine.describe()"
   ]
  },
  {
   "cell_type": "code",
   "execution_count": 7,
   "metadata": {
    "execution": {
     "iopub.execute_input": "2021-01-18T08:45:18.851377Z",
     "iopub.status.busy": "2021-01-18T08:45:18.840054Z",
     "iopub.status.idle": "2021-01-18T08:45:18.856098Z",
     "shell.execute_reply": "2021-01-18T08:45:18.855343Z"
    },
    "papermill": {
     "duration": 0.067692,
     "end_time": "2021-01-18T08:45:18.856258",
     "exception": false,
     "start_time": "2021-01-18T08:45:18.788566",
     "status": "completed"
    },
    "tags": []
   },
   "outputs": [
    {
     "name": "stdout",
     "output_type": "stream",
     "text": [
      "<class 'pandas.core.frame.DataFrame'>\n",
      "RangeIndex: 6497 entries, 0 to 6496\n",
      "Data columns (total 13 columns):\n",
      " #   Column                Non-Null Count  Dtype  \n",
      "---  ------                --------------  -----  \n",
      " 0   type                  6497 non-null   object \n",
      " 1   fixed acidity         6487 non-null   float64\n",
      " 2   volatile acidity      6489 non-null   float64\n",
      " 3   citric acid           6494 non-null   float64\n",
      " 4   residual sugar        6495 non-null   float64\n",
      " 5   chlorides             6495 non-null   float64\n",
      " 6   free sulfur dioxide   6497 non-null   float64\n",
      " 7   total sulfur dioxide  6497 non-null   float64\n",
      " 8   density               6497 non-null   float64\n",
      " 9   pH                    6488 non-null   float64\n",
      " 10  sulphates             6493 non-null   float64\n",
      " 11  alcohol               6497 non-null   float64\n",
      " 12  quality               6497 non-null   int64  \n",
      "dtypes: float64(11), int64(1), object(1)\n",
      "memory usage: 660.0+ KB\n"
     ]
    }
   ],
   "source": [
    "wine.info()"
   ]
  },
  {
   "cell_type": "code",
   "execution_count": 8,
   "metadata": {
    "execution": {
     "iopub.execute_input": "2021-01-18T08:45:19.006466Z",
     "iopub.status.busy": "2021-01-18T08:45:19.005030Z",
     "iopub.status.idle": "2021-01-18T08:45:19.010332Z",
     "shell.execute_reply": "2021-01-18T08:45:19.009472Z"
    },
    "papermill": {
     "duration": 0.087947,
     "end_time": "2021-01-18T08:45:19.010476",
     "exception": false,
     "start_time": "2021-01-18T08:45:18.922529",
     "status": "completed"
    },
    "tags": []
   },
   "outputs": [
    {
     "data": {
      "text/plain": "type                     0\nfixed acidity           10\nvolatile acidity         8\ncitric acid              3\nresidual sugar           2\nchlorides                2\nfree sulfur dioxide      0\ntotal sulfur dioxide     0\ndensity                  0\npH                       9\nsulphates                4\nalcohol                  0\nquality                  0\ndtype: int64"
     },
     "execution_count": 8,
     "metadata": {},
     "output_type": "execute_result"
    }
   ],
   "source": [
    "wine.isnull().sum()"
   ]
  },
  {
   "cell_type": "code",
   "execution_count": 9,
   "metadata": {
    "execution": {
     "iopub.execute_input": "2021-01-18T08:45:19.172455Z",
     "iopub.status.busy": "2021-01-18T08:45:19.171500Z",
     "iopub.status.idle": "2021-01-18T08:45:19.207009Z",
     "shell.execute_reply": "2021-01-18T08:45:19.206482Z"
    },
    "papermill": {
     "duration": 0.116161,
     "end_time": "2021-01-18T08:45:19.207157",
     "exception": false,
     "start_time": "2021-01-18T08:45:19.090996",
     "status": "completed"
    },
    "tags": []
   },
   "outputs": [],
   "source": [
    "wine.dropna(inplace = True)"
   ]
  },
  {
   "cell_type": "code",
   "execution_count": 10,
   "metadata": {
    "execution": {
     "iopub.execute_input": "2021-01-18T08:45:19.302057Z",
     "iopub.status.busy": "2021-01-18T08:45:19.300203Z",
     "iopub.status.idle": "2021-01-18T08:45:19.311973Z",
     "shell.execute_reply": "2021-01-18T08:45:19.312475Z"
    },
    "papermill": {
     "duration": 0.06178,
     "end_time": "2021-01-18T08:45:19.312622",
     "exception": false,
     "start_time": "2021-01-18T08:45:19.250842",
     "status": "completed"
    },
    "tags": []
   },
   "outputs": [
    {
     "data": {
      "text/plain": "type                    0\nfixed acidity           0\nvolatile acidity        0\ncitric acid             0\nresidual sugar          0\nchlorides               0\nfree sulfur dioxide     0\ntotal sulfur dioxide    0\ndensity                 0\npH                      0\nsulphates               0\nalcohol                 0\nquality                 0\ndtype: int64"
     },
     "execution_count": 10,
     "metadata": {},
     "output_type": "execute_result"
    }
   ],
   "source": [
    "wine.isnull().sum()"
   ]
  },
  {
   "cell_type": "code",
   "execution_count": 11,
   "metadata": {
    "execution": {
     "iopub.execute_input": "2021-01-18T08:45:19.420722Z",
     "iopub.status.busy": "2021-01-18T08:45:19.419629Z",
     "iopub.status.idle": "2021-01-18T08:45:19.431932Z",
     "shell.execute_reply": "2021-01-18T08:45:19.431295Z"
    },
    "papermill": {
     "duration": 0.074225,
     "end_time": "2021-01-18T08:45:19.432041",
     "exception": false,
     "start_time": "2021-01-18T08:45:19.357816",
     "status": "completed"
    },
    "tags": []
   },
   "outputs": [
    {
     "data": {
      "text/plain": "    type  fixed acidity  volatile acidity  citric acid  residual sugar  \\\n0  white            7.0              0.27         0.36            20.7   \n1  white            6.3              0.30         0.34             1.6   \n2  white            8.1              0.28         0.40             6.9   \n3  white            7.2              0.23         0.32             8.5   \n4  white            7.2              0.23         0.32             8.5   \n\n   chlorides  free sulfur dioxide  total sulfur dioxide  density    pH  \\\n0      0.045                 45.0                 170.0   1.0010  3.00   \n1      0.049                 14.0                 132.0   0.9940  3.30   \n2      0.050                 30.0                  97.0   0.9951  3.26   \n3      0.058                 47.0                 186.0   0.9956  3.19   \n4      0.058                 47.0                 186.0   0.9956  3.19   \n\n   sulphates  alcohol  quality  \n0       0.45      8.8        6  \n1       0.49      9.5        6  \n2       0.44     10.1        6  \n3       0.40      9.9        6  \n4       0.40      9.9        6  ",
      "text/html": "<div>\n<style scoped>\n    .dataframe tbody tr th:only-of-type {\n        vertical-align: middle;\n    }\n\n    .dataframe tbody tr th {\n        vertical-align: top;\n    }\n\n    .dataframe thead th {\n        text-align: right;\n    }\n</style>\n<table border=\"1\" class=\"dataframe\">\n  <thead>\n    <tr style=\"text-align: right;\">\n      <th></th>\n      <th>type</th>\n      <th>fixed acidity</th>\n      <th>volatile acidity</th>\n      <th>citric acid</th>\n      <th>residual sugar</th>\n      <th>chlorides</th>\n      <th>free sulfur dioxide</th>\n      <th>total sulfur dioxide</th>\n      <th>density</th>\n      <th>pH</th>\n      <th>sulphates</th>\n      <th>alcohol</th>\n      <th>quality</th>\n    </tr>\n  </thead>\n  <tbody>\n    <tr>\n      <th>0</th>\n      <td>white</td>\n      <td>7.0</td>\n      <td>0.27</td>\n      <td>0.36</td>\n      <td>20.7</td>\n      <td>0.045</td>\n      <td>45.0</td>\n      <td>170.0</td>\n      <td>1.0010</td>\n      <td>3.00</td>\n      <td>0.45</td>\n      <td>8.8</td>\n      <td>6</td>\n    </tr>\n    <tr>\n      <th>1</th>\n      <td>white</td>\n      <td>6.3</td>\n      <td>0.30</td>\n      <td>0.34</td>\n      <td>1.6</td>\n      <td>0.049</td>\n      <td>14.0</td>\n      <td>132.0</td>\n      <td>0.9940</td>\n      <td>3.30</td>\n      <td>0.49</td>\n      <td>9.5</td>\n      <td>6</td>\n    </tr>\n    <tr>\n      <th>2</th>\n      <td>white</td>\n      <td>8.1</td>\n      <td>0.28</td>\n      <td>0.40</td>\n      <td>6.9</td>\n      <td>0.050</td>\n      <td>30.0</td>\n      <td>97.0</td>\n      <td>0.9951</td>\n      <td>3.26</td>\n      <td>0.44</td>\n      <td>10.1</td>\n      <td>6</td>\n    </tr>\n    <tr>\n      <th>3</th>\n      <td>white</td>\n      <td>7.2</td>\n      <td>0.23</td>\n      <td>0.32</td>\n      <td>8.5</td>\n      <td>0.058</td>\n      <td>47.0</td>\n      <td>186.0</td>\n      <td>0.9956</td>\n      <td>3.19</td>\n      <td>0.40</td>\n      <td>9.9</td>\n      <td>6</td>\n    </tr>\n    <tr>\n      <th>4</th>\n      <td>white</td>\n      <td>7.2</td>\n      <td>0.23</td>\n      <td>0.32</td>\n      <td>8.5</td>\n      <td>0.058</td>\n      <td>47.0</td>\n      <td>186.0</td>\n      <td>0.9956</td>\n      <td>3.19</td>\n      <td>0.40</td>\n      <td>9.9</td>\n      <td>6</td>\n    </tr>\n  </tbody>\n</table>\n</div>"
     },
     "execution_count": 11,
     "metadata": {},
     "output_type": "execute_result"
    }
   ],
   "source": [
    "wine.head()"
   ]
  },
  {
   "cell_type": "code",
   "execution_count": 12,
   "metadata": {
    "execution": {
     "iopub.execute_input": "2021-01-18T08:45:19.530938Z",
     "iopub.status.busy": "2021-01-18T08:45:19.530280Z",
     "iopub.status.idle": "2021-01-18T08:45:22.741793Z",
     "shell.execute_reply": "2021-01-18T08:45:22.740873Z"
    },
    "papermill": {
     "duration": 3.264544,
     "end_time": "2021-01-18T08:45:22.741942",
     "exception": false,
     "start_time": "2021-01-18T08:45:19.477398",
     "status": "completed"
    },
    "tags": []
   },
   "outputs": [
    {
     "data": {
      "text/plain": "<Figure size 1080x1080 with 12 Axes>",
      "image/png": "[encoded data removed]"
     },
     "metadata": {
      "needs_background": "light"
     },
     "output_type": "display_data"
    }
   ],
   "source": [
    "wine.hist(bins=50,figsize=(15,15));"
   ]
  },
  {
   "cell_type": "code",
   "execution_count": 13,
   "metadata": {
    "execution": {
     "iopub.execute_input": "2021-01-18T08:45:22.893091Z",
     "iopub.status.busy": "2021-01-18T08:45:22.892215Z",
     "iopub.status.idle": "2021-01-18T08:45:22.924192Z",
     "shell.execute_reply": "2021-01-18T08:45:22.924699Z"
    },
    "papermill": {
     "duration": 0.109185,
     "end_time": "2021-01-18T08:45:22.924868",
     "exception": false,
     "start_time": "2021-01-18T08:45:22.815683",
     "status": "completed"
    },
    "tags": []
   },
   "outputs": [
    {
     "data": {
      "text/plain": "                      fixed acidity  volatile acidity  citric acid  \\\nfixed acidity              1.000000          0.221066     0.323744   \nvolatile acidity           0.221066          1.000000    -0.377512   \ncitric acid                0.323744         -0.377512     1.000000   \nresidual sugar            -0.113442         -0.196677     0.142324   \nchlorides                  0.299104          0.377995     0.039412   \nfree sulfur dioxide       -0.283485         -0.353402     0.132271   \ntotal sulfur dioxide      -0.330543         -0.414729     0.194398   \ndensity                    0.459713          0.272101     0.097068   \npH                        -0.251121          0.260134    -0.327860   \nsulphates                  0.301263          0.225656     0.059070   \nalcohol                   -0.096190         -0.039528    -0.010056   \nquality                   -0.076174         -0.266677     0.084926   \n\n                      residual sugar  chlorides  free sulfur dioxide  \\\nfixed acidity              -0.113442   0.299104            -0.283485   \nvolatile acidity           -0.196677   0.377995            -0.353402   \ncitric acid                 0.142324   0.039412             0.132271   \nresidual sugar              1.000000  -0.128814             0.403449   \nchlorides                  -0.128814   1.000000            -0.195428   \nfree sulfur dioxide         0.403449  -0.195428             1.000000   \ntotal sulfur dioxide        0.495684  -0.279602             0.721476   \ndensity                     0.551494   0.363108             0.025113   \npH                         -0.266481   0.044653            -0.145164   \nsulphates                  -0.185616   0.396240            -0.188947   \nalcohol                    -0.359132  -0.257664            -0.179477   \nquality                    -0.034654  -0.200553             0.054924   \n\n                      total sulfur dioxide   density        pH  sulphates  \\\nfixed acidity                    -0.330543  0.459713 -0.251121   0.301263   \nvolatile acidity                 -0.414729  0.272101  0.260134   0.225656   \ncitric acid                       0.194398  0.097068 -0.327860   0.059070   \nresidual sugar                    0.495684  0.551494 -0.266481  -0.185616   \nchlorides                        -0.279602  0.363108  0.044653   0.396240   \nfree sulfur dioxide               0.721476  0.025113 -0.145164  -0.188947   \ntotal sulfur dioxide              1.000000  0.031419 -0.237204  -0.275878   \ndensity                           0.031419  1.000000  0.012525   0.260019   \npH                               -0.237204  0.012525  1.000000   0.190864   \nsulphates                        -0.275878  0.260019  0.190864   1.000000   \nalcohol                          -0.264385 -0.687432  0.120473  -0.004116   \nquality                          -0.041598 -0.304447  0.018403   0.039054   \n\n                       alcohol   quality  \nfixed acidity        -0.096190 -0.076174  \nvolatile acidity     -0.039528 -0.266677  \ncitric acid          -0.010056  0.084926  \nresidual sugar       -0.359132 -0.034654  \nchlorides            -0.257664 -0.200553  \nfree sulfur dioxide  -0.179477  0.054924  \ntotal sulfur dioxide -0.264385 -0.041598  \ndensity              -0.687432 -0.304447  \npH                    0.120473  0.018403  \nsulphates            -0.004116  0.039054  \nalcohol               1.000000  0.444637  \nquality               0.444637  1.000000  ",
      "text/html": "<div>\n<style scoped>\n    .dataframe tbody tr th:only-of-type {\n        vertical-align: middle;\n    }\n\n    .dataframe tbody tr th {\n        vertical-align: top;\n    }\n\n    .dataframe thead th {\n        text-align: right;\n    }\n</style>\n<table border=\"1\" class=\"dataframe\">\n  <thead>\n    <tr style=\"text-align: right;\">\n      <th></th>\n      <th>fixed acidity</th>\n      <th>volatile acidity</th>\n      <th>citric acid</th>\n      <th>residual sugar</th>\n      <th>chlorides</th>\n      <th>free sulfur dioxide</th>\n      <th>total sulfur dioxide</th>\n      <th>density</th>\n      <th>pH</th>\n      <th>sulphates</th>\n      <th>alcohol</th>\n      <th>quality</th>\n    </tr>\n  </thead>\n  <tbody>\n    <tr>\n      <th>fixed acidity</th>\n      <td>1.000000</td>\n      <td>0.221066</td>\n      <td>0.323744</td>\n      <td>-0.113442</td>\n      <td>0.299104</td>\n      <td>-0.283485</td>\n      <td>-0.330543</td>\n      <td>0.459713</td>\n      <td>-0.251121</td>\n      <td>0.301263</td>\n      <td>-0.096190</td>\n      <td>-0.076174</td>\n    </tr>\n    <tr>\n      <th>volatile acidity</th>\n      <td>0.221066</td>\n      <td>1.000000</td>\n      <td>-0.377512</td>\n      <td>-0.196677</td>\n      <td>0.377995</td>\n      <td>-0.353402</td>\n      <td>-0.414729</td>\n      <td>0.272101</td>\n      <td>0.260134</td>\n      <td>0.225656</td>\n      <td>-0.039528</td>\n      <td>-0.266677</td>\n    </tr>\n    <tr>\n      <th>citric acid</th>\n      <td>0.323744</td>\n      <td>-0.377512</td>\n      <td>1.000000</td>\n      <td>0.142324</td>\n      <td>0.039412</td>\n      <td>0.132271</td>\n      <td>0.194398</td>\n      <td>0.097068</td>\n      <td>-0.327860</td>\n      <td>0.059070</td>\n      <td>-0.010056</td>\n      <td>0.084926</td>\n    </tr>\n    <tr>\n      <th>residual sugar</th>\n      <td>-0.113442</td>\n      <td>-0.196677</td>\n      <td>0.142324</td>\n      <td>1.000000</td>\n      <td>-0.128814</td>\n      <td>0.403449</td>\n      <td>0.495684</td>\n      <td>0.551494</td>\n      <td>-0.266481</td>\n      <td>-0.185616</td>\n      <td>-0.359132</td>\n      <td>-0.034654</td>\n    </tr>\n    <tr>\n      <th>chlorides</th>\n      <td>0.299104</td>\n      <td>0.377995</td>\n      <td>0.039412</td>\n      <td>-0.128814</td>\n      <td>1.000000</td>\n      <td>-0.195428</td>\n      <td>-0.279602</td>\n      <td>0.363108</td>\n      <td>0.044653</td>\n      <td>0.396240</td>\n      <td>-0.257664</td>\n      <td>-0.200553</td>\n    </tr>\n    <tr>\n      <th>free sulfur dioxide</th>\n      <td>-0.283485</td>\n      <td>-0.353402</td>\n      <td>0.132271</td>\n      <td>0.403449</td>\n      <td>-0.195428</td>\n      <td>1.000000</td>\n      <td>0.721476</td>\n      <td>0.025113</td>\n      <td>-0.145164</td>\n      <td>-0.188947</td>\n      <td>-0.179477</td>\n      <td>0.054924</td>\n    </tr>\n    <tr>\n      <th>total sulfur dioxide</th>\n      <td>-0.330543</td>\n      <td>-0.414729</td>\n      <td>0.194398</td>\n      <td>0.495684</td>\n      <td>-0.279602</td>\n      <td>0.721476</td>\n      <td>1.000000</td>\n      <td>0.031419</td>\n      <td>-0.237204</td>\n      <td>-0.275878</td>\n      <td>-0.264385</td>\n      <td>-0.041598</td>\n    </tr>\n    <tr>\n      <th>density</th>\n      <td>0.459713</td>\n      <td>0.272101</td>\n      <td>0.097068</td>\n      <td>0.551494</td>\n      <td>0.363108</td>\n      <td>0.025113</td>\n      <td>0.031419</td>\n      <td>1.000000</td>\n      <td>0.012525</td>\n      <td>0.260019</td>\n      <td>-0.687432</td>\n      <td>-0.304447</td>\n    </tr>\n    <tr>\n      <th>pH</th>\n      <td>-0.251121</td>\n      <td>0.260134</td>\n      <td>-0.327860</td>\n      <td>-0.266481</td>\n      <td>0.044653</td>\n      <td>-0.145164</td>\n      <td>-0.237204</td>\n      <td>0.012525</td>\n      <td>1.000000</td>\n      <td>0.190864</td>\n      <td>0.120473</td>\n      <td>0.018403</td>\n    </tr>\n    <tr>\n      <th>sulphates</th>\n      <td>0.301263</td>\n      <td>0.225656</td>\n      <td>0.059070</td>\n      <td>-0.185616</td>\n      <td>0.396240</td>\n      <td>-0.188947</td>\n      <td>-0.275878</td>\n      <td>0.260019</td>\n      <td>0.190864</td>\n      <td>1.000000</td>\n      <td>-0.004116</td>\n      <td>0.039054</td>\n    </tr>\n    <tr>\n      <th>alcohol</th>\n      <td>-0.096190</td>\n      <td>-0.039528</td>\n      <td>-0.010056</td>\n      <td>-0.359132</td>\n      <td>-0.257664</td>\n      <td>-0.179477</td>\n      <td>-0.264385</td>\n      <td>-0.687432</td>\n      <td>0.120473</td>\n      <td>-0.004116</td>\n      <td>1.000000</td>\n      <td>0.444637</td>\n    </tr>\n    <tr>\n      <th>quality</th>\n      <td>-0.076174</td>\n      <td>-0.266677</td>\n      <td>0.084926</td>\n      <td>-0.034654</td>\n      <td>-0.200553</td>\n      <td>0.054924</td>\n      <td>-0.041598</td>\n      <td>-0.304447</td>\n      <td>0.018403</td>\n      <td>0.039054</td>\n      <td>0.444637</td>\n      <td>1.000000</td>\n    </tr>\n  </tbody>\n</table>\n</div>"
     },
     "execution_count": 13,
     "metadata": {},
     "output_type": "execute_result"
    }
   ],
   "source": [
    "corr_matrix = wine.corr()\n",
    "corr_matrix"
   ]
  },
  {
   "cell_type": "code",
   "execution_count": 14,
   "metadata": {
    "execution": {
     "iopub.execute_input": "2021-01-18T08:45:23.037872Z",
     "iopub.status.busy": "2021-01-18T08:45:23.037162Z",
     "iopub.status.idle": "2021-01-18T08:45:23.041092Z",
     "shell.execute_reply": "2021-01-18T08:45:23.041921Z"
    },
    "papermill": {
     "duration": 0.065745,
     "end_time": "2021-01-18T08:45:23.042083",
     "exception": false,
     "start_time": "2021-01-18T08:45:22.976338",
     "status": "completed"
    },
    "tags": []
   },
   "outputs": [
    {
     "data": {
      "text/plain": "Index(['fixed acidity', 'volatile acidity', 'citric acid', 'residual sugar',\n       'chlorides', 'free sulfur dioxide', 'total sulfur dioxide', 'density',\n       'pH', 'sulphates', 'alcohol', 'quality'],\n      dtype='object')"
     },
     "execution_count": 14,
     "metadata": {},
     "output_type": "execute_result"
    }
   ],
   "source": [
    "X_unscaled = wine.drop(\"type\",axis=1)\n",
    "X_unscaled.columns"
   ]
  },
  {
   "cell_type": "code",
   "execution_count": 15,
   "metadata": {
    "execution": {
     "iopub.execute_input": "2021-01-18T08:45:23.150059Z",
     "iopub.status.busy": "2021-01-18T08:45:23.149059Z",
     "iopub.status.idle": "2021-01-18T08:45:23.157825Z",
     "shell.execute_reply": "2021-01-18T08:45:23.158403Z"
    },
    "papermill": {
     "duration": 0.066736,
     "end_time": "2021-01-18T08:45:23.158557",
     "exception": false,
     "start_time": "2021-01-18T08:45:23.091821",
     "status": "completed"
    },
    "tags": []
   },
   "outputs": [
    {
     "data": {
      "text/plain": "0       white\n1       white\n2       white\n3       white\n4       white\n        ...  \n6491      red\n6492      red\n6494      red\n6495      red\n6496      red\nName: type, Length: 6463, dtype: object"
     },
     "execution_count": 15,
     "metadata": {},
     "output_type": "execute_result"
    }
   ],
   "source": [
    "y = wine[\"type\"]\n",
    "y"
   ]
  },
  {
   "cell_type": "code",
   "execution_count": 16,
   "metadata": {
    "execution": {
     "iopub.execute_input": "2021-01-18T08:45:23.265638Z",
     "iopub.status.busy": "2021-01-18T08:45:23.264779Z",
     "iopub.status.idle": "2021-01-18T08:45:23.269457Z",
     "shell.execute_reply": "2021-01-18T08:45:23.268797Z"
    },
    "papermill": {
     "duration": 0.061275,
     "end_time": "2021-01-18T08:45:23.269572",
     "exception": false,
     "start_time": "2021-01-18T08:45:23.208297",
     "status": "completed"
    },
    "tags": []
   },
   "outputs": [],
   "source": [
    "# one hot encoder\n",
    "\n",
    "from sklearn.preprocessing import OneHotEncoder\n",
    "cat_encoder = OneHotEncoder()\n",
    "wine_cat = wine[['quality']]"
   ]
  },
  {
   "cell_type": "code",
   "execution_count": 17,
   "metadata": {
    "execution": {
     "iopub.execute_input": "2021-01-18T08:45:23.377741Z",
     "iopub.status.busy": "2021-01-18T08:45:23.374472Z",
     "iopub.status.idle": "2021-01-18T08:45:23.384793Z",
     "shell.execute_reply": "2021-01-18T08:45:23.384246Z"
    },
    "papermill": {
     "duration": 0.066417,
     "end_time": "2021-01-18T08:45:23.385048",
     "exception": false,
     "start_time": "2021-01-18T08:45:23.318631",
     "status": "completed"
    },
    "tags": []
   },
   "outputs": [
    {
     "data": {
      "text/plain": "<6463x7 sparse matrix of type '<class 'numpy.float64'>'\n\twith 6463 stored elements in Compressed Sparse Row format>"
     },
     "execution_count": 17,
     "metadata": {},
     "output_type": "execute_result"
    }
   ],
   "source": [
    "dummy_values=cat_encoder.fit_transform(wine_cat)\n",
    "dummy_values"
   ]
  },
  {
   "cell_type": "code",
   "execution_count": 18,
   "metadata": {
    "execution": {
     "iopub.execute_input": "2021-01-18T08:45:23.491616Z",
     "iopub.status.busy": "2021-01-18T08:45:23.490847Z",
     "iopub.status.idle": "2021-01-18T08:45:23.499196Z",
     "shell.execute_reply": "2021-01-18T08:45:23.498570Z"
    },
    "papermill": {
     "duration": 0.064099,
     "end_time": "2021-01-18T08:45:23.499461",
     "exception": false,
     "start_time": "2021-01-18T08:45:23.435362",
     "status": "completed"
    },
    "tags": []
   },
   "outputs": [
    {
     "data": {
      "text/plain": "array([[0., 0., 0., ..., 0., 0., 0.],\n       [0., 0., 0., ..., 0., 0., 0.],\n       [0., 0., 0., ..., 0., 0., 0.],\n       ...,\n       [0., 0., 0., ..., 0., 0., 0.],\n       [0., 0., 1., ..., 0., 0., 0.],\n       [0., 0., 0., ..., 0., 0., 0.]])"
     },
     "execution_count": 18,
     "metadata": {},
     "output_type": "execute_result"
    }
   ],
   "source": [
    "dummy_values.toarray()"
   ]
  },
  {
   "cell_type": "code",
   "execution_count": 19,
   "metadata": {
    "execution": {
     "iopub.execute_input": "2021-01-18T08:45:23.608419Z",
     "iopub.status.busy": "2021-01-18T08:45:23.607739Z",
     "iopub.status.idle": "2021-01-18T08:45:23.613469Z",
     "shell.execute_reply": "2021-01-18T08:45:23.612764Z"
    },
    "papermill": {
     "duration": 0.061581,
     "end_time": "2021-01-18T08:45:23.613581",
     "exception": false,
     "start_time": "2021-01-18T08:45:23.552000",
     "status": "completed"
    },
    "tags": []
   },
   "outputs": [
    {
     "data": {
      "text/plain": "[array([3, 4, 5, 6, 7, 8, 9], dtype=int64)]"
     },
     "execution_count": 19,
     "metadata": {},
     "output_type": "execute_result"
    }
   ],
   "source": [
    "cat_encoder.categories_"
   ]
  },
  {
   "cell_type": "code",
   "execution_count": 20,
   "metadata": {
    "execution": {
     "iopub.execute_input": "2021-01-18T08:45:23.718491Z",
     "iopub.status.busy": "2021-01-18T08:45:23.717803Z",
     "iopub.status.idle": "2021-01-18T08:45:23.737364Z",
     "shell.execute_reply": "2021-01-18T08:45:23.738126Z"
    },
    "papermill": {
     "duration": 0.073574,
     "end_time": "2021-01-18T08:45:23.738268",
     "exception": false,
     "start_time": "2021-01-18T08:45:23.664694",
     "status": "completed"
    },
    "tags": []
   },
   "outputs": [
    {
     "data": {
      "text/plain": "     0    1    2    3    4    5    6\n0  0.0  0.0  0.0  1.0  0.0  0.0  0.0\n1  0.0  0.0  0.0  1.0  0.0  0.0  0.0\n2  0.0  0.0  0.0  1.0  0.0  0.0  0.0\n3  0.0  0.0  0.0  1.0  0.0  0.0  0.0\n4  0.0  0.0  0.0  1.0  0.0  0.0  0.0",
      "text/html": "<div>\n<style scoped>\n    .dataframe tbody tr th:only-of-type {\n        vertical-align: middle;\n    }\n\n    .dataframe tbody tr th {\n        vertical-align: top;\n    }\n\n    .dataframe thead th {\n        text-align: right;\n    }\n</style>\n<table border=\"1\" class=\"dataframe\">\n  <thead>\n    <tr style=\"text-align: right;\">\n      <th></th>\n      <th>0</th>\n      <th>1</th>\n      <th>2</th>\n      <th>3</th>\n      <th>4</th>\n      <th>5</th>\n      <th>6</th>\n    </tr>\n  </thead>\n  <tbody>\n    <tr>\n      <th>0</th>\n      <td>0.0</td>\n      <td>0.0</td>\n      <td>0.0</td>\n      <td>1.0</td>\n      <td>0.0</td>\n      <td>0.0</td>\n      <td>0.0</td>\n    </tr>\n    <tr>\n      <th>1</th>\n      <td>0.0</td>\n      <td>0.0</td>\n      <td>0.0</td>\n      <td>1.0</td>\n      <td>0.0</td>\n      <td>0.0</td>\n      <td>0.0</td>\n    </tr>\n    <tr>\n      <th>2</th>\n      <td>0.0</td>\n      <td>0.0</td>\n      <td>0.0</td>\n      <td>1.0</td>\n      <td>0.0</td>\n      <td>0.0</td>\n      <td>0.0</td>\n    </tr>\n    <tr>\n      <th>3</th>\n      <td>0.0</td>\n      <td>0.0</td>\n      <td>0.0</td>\n      <td>1.0</td>\n      <td>0.0</td>\n      <td>0.0</td>\n      <td>0.0</td>\n    </tr>\n    <tr>\n      <th>4</th>\n      <td>0.0</td>\n      <td>0.0</td>\n      <td>0.0</td>\n      <td>1.0</td>\n      <td>0.0</td>\n      <td>0.0</td>\n      <td>0.0</td>\n    </tr>\n  </tbody>\n</table>\n</div>"
     },
     "execution_count": 20,
     "metadata": {},
     "output_type": "execute_result"
    }
   ],
   "source": [
    "cat_val = pd.DataFrame(dummy_values.toarray())\n",
    "cat_val.head()"
   ]
  },
  {
   "cell_type": "code",
   "execution_count": 21,
   "metadata": {
    "execution": {
     "iopub.execute_input": "2021-01-18T08:45:23.844023Z",
     "iopub.status.busy": "2021-01-18T08:45:23.843248Z",
     "iopub.status.idle": "2021-01-18T08:45:23.848848Z",
     "shell.execute_reply": "2021-01-18T08:45:23.849549Z"
    },
    "papermill": {
     "duration": 0.060797,
     "end_time": "2021-01-18T08:45:23.849683",
     "exception": false,
     "start_time": "2021-01-18T08:45:23.788886",
     "status": "completed"
    },
    "tags": []
   },
   "outputs": [],
   "source": [
    "cat_val.columns = ['3', '4', '5', '6', '7',\"8\",\"9\"]"
   ]
  },
  {
   "cell_type": "code",
   "execution_count": 22,
   "metadata": {
    "execution": {
     "iopub.execute_input": "2021-01-18T08:45:23.956197Z",
     "iopub.status.busy": "2021-01-18T08:45:23.955581Z",
     "iopub.status.idle": "2021-01-18T08:45:23.983875Z",
     "shell.execute_reply": "2021-01-18T08:45:23.983272Z"
    },
    "papermill": {
     "duration": 0.083412,
     "end_time": "2021-01-18T08:45:23.984003",
     "exception": false,
     "start_time": "2021-01-18T08:45:23.900591",
     "status": "completed"
    },
    "tags": []
   },
   "outputs": [
    {
     "data": {
      "text/plain": "     3    4    5    6    7    8    9\n0  0.0  0.0  0.0  1.0  0.0  0.0  0.0\n1  0.0  0.0  0.0  1.0  0.0  0.0  0.0\n2  0.0  0.0  0.0  1.0  0.0  0.0  0.0\n3  0.0  0.0  0.0  1.0  0.0  0.0  0.0\n4  0.0  0.0  0.0  1.0  0.0  0.0  0.0",
      "text/html": "<div>\n<style scoped>\n    .dataframe tbody tr th:only-of-type {\n        vertical-align: middle;\n    }\n\n    .dataframe tbody tr th {\n        vertical-align: top;\n    }\n\n    .dataframe thead th {\n        text-align: right;\n    }\n</style>\n<table border=\"1\" class=\"dataframe\">\n  <thead>\n    <tr style=\"text-align: right;\">\n      <th></th>\n      <th>3</th>\n      <th>4</th>\n      <th>5</th>\n      <th>6</th>\n      <th>7</th>\n      <th>8</th>\n      <th>9</th>\n    </tr>\n  </thead>\n  <tbody>\n    <tr>\n      <th>0</th>\n      <td>0.0</td>\n      <td>0.0</td>\n      <td>0.0</td>\n      <td>1.0</td>\n      <td>0.0</td>\n      <td>0.0</td>\n      <td>0.0</td>\n    </tr>\n    <tr>\n      <th>1</th>\n      <td>0.0</td>\n      <td>0.0</td>\n      <td>0.0</td>\n      <td>1.0</td>\n      <td>0.0</td>\n      <td>0.0</td>\n      <td>0.0</td>\n    </tr>\n    <tr>\n      <th>2</th>\n      <td>0.0</td>\n      <td>0.0</td>\n      <td>0.0</td>\n      <td>1.0</td>\n      <td>0.0</td>\n      <td>0.0</td>\n      <td>0.0</td>\n    </tr>\n    <tr>\n      <th>3</th>\n      <td>0.0</td>\n      <td>0.0</td>\n      <td>0.0</td>\n      <td>1.0</td>\n      <td>0.0</td>\n      <td>0.0</td>\n      <td>0.0</td>\n    </tr>\n    <tr>\n      <th>4</th>\n      <td>0.0</td>\n      <td>0.0</td>\n      <td>0.0</td>\n      <td>1.0</td>\n      <td>0.0</td>\n      <td>0.0</td>\n      <td>0.0</td>\n    </tr>\n  </tbody>\n</table>\n</div>"
     },
     "execution_count": 22,
     "metadata": {},
     "output_type": "execute_result"
    }
   ],
   "source": [
    "cat_val.head()"
   ]
  },
  {
   "cell_type": "code",
   "execution_count": 23,
   "metadata": {
    "execution": {
     "iopub.execute_input": "2021-01-18T08:45:24.110518Z",
     "iopub.status.busy": "2021-01-18T08:45:24.109542Z",
     "iopub.status.idle": "2021-01-18T08:45:24.113509Z",
     "shell.execute_reply": "2021-01-18T08:45:24.112670Z"
    },
    "papermill": {
     "duration": 0.062165,
     "end_time": "2021-01-18T08:45:24.113641",
     "exception": false,
     "start_time": "2021-01-18T08:45:24.051476",
     "status": "completed"
    },
    "tags": []
   },
   "outputs": [],
   "source": [
    "# feature scalling\n",
    "\n",
    "from sklearn.preprocessing import StandardScaler\n",
    "std_scaler = StandardScaler()"
   ]
  },
  {
   "cell_type": "code",
   "execution_count": 24,
   "metadata": {
    "execution": {
     "iopub.execute_input": "2021-01-18T08:45:24.283386Z",
     "iopub.status.busy": "2021-01-18T08:45:24.282548Z",
     "iopub.status.idle": "2021-01-18T08:45:24.293281Z",
     "shell.execute_reply": "2021-01-18T08:45:24.293857Z"
    },
    "papermill": {
     "duration": 0.100863,
     "end_time": "2021-01-18T08:45:24.294016",
     "exception": false,
     "start_time": "2021-01-18T08:45:24.193153",
     "status": "completed"
    },
    "tags": []
   },
   "outputs": [
    {
     "data": {
      "text/plain": "StandardScaler()"
     },
     "execution_count": 24,
     "metadata": {},
     "output_type": "execute_result"
    }
   ],
   "source": [
    "std_scaler.fit(X_unscaled)"
   ]
  },
  {
   "cell_type": "code",
   "execution_count": 25,
   "metadata": {
    "execution": {
     "iopub.execute_input": "2021-01-18T08:45:24.408969Z",
     "iopub.status.busy": "2021-01-18T08:45:24.408317Z",
     "iopub.status.idle": "2021-01-18T08:45:24.467893Z",
     "shell.execute_reply": "2021-01-18T08:45:24.466845Z"
    },
    "papermill": {
     "duration": 0.116977,
     "end_time": "2021-01-18T08:45:24.468028",
     "exception": false,
     "start_time": "2021-01-18T08:45:24.351051",
     "status": "completed"
    },
    "tags": []
   },
   "outputs": [
    {
     "data": {
      "text/plain": "       fixed acidity  volatile acidity  citric acid  residual sugar  \\\ncount    6463.000000       6463.000000  6463.000000     6463.000000   \nmean        7.217755          0.339589     0.318758        5.443958   \nstd         1.297913          0.164639     0.145252        4.756852   \nmin         3.800000          0.080000     0.000000        0.600000   \n25%         6.400000          0.230000     0.250000        1.800000   \n50%         7.000000          0.290000     0.310000        3.000000   \n75%         7.700000          0.400000     0.390000        8.100000   \nmax        15.900000          1.580000     1.660000       65.800000   \n\n         chlorides  free sulfur dioxide  total sulfur dioxide      density  \\\ncount  6463.000000          6463.000000           6463.000000  6463.000000   \nmean      0.056056            30.516865            115.694492     0.994698   \nstd       0.035076            17.758815             56.526736     0.003001   \nmin       0.009000             1.000000              6.000000     0.987110   \n25%       0.038000            17.000000             77.000000     0.992330   \n50%       0.047000            29.000000            118.000000     0.994890   \n75%       0.065000            41.000000            156.000000     0.997000   \nmax       0.611000           289.000000            440.000000     1.038980   \n\n                pH    sulphates      alcohol      quality  \ncount  6463.000000  6463.000000  6463.000000  6463.000000  \nmean      3.218332     0.531150    10.492825     5.818505  \nstd       0.160650     0.148913     1.193128     0.873286  \nmin       2.720000     0.220000     8.000000     3.000000  \n25%       3.110000     0.430000     9.500000     5.000000  \n50%       3.210000     0.510000    10.300000     6.000000  \n75%       3.320000     0.600000    11.300000     6.000000  \nmax       4.010000     2.000000    14.900000     9.000000  ",
      "text/html": "<div>\n<style scoped>\n    .dataframe tbody tr th:only-of-type {\n        vertical-align: middle;\n    }\n\n    .dataframe tbody tr th {\n        vertical-align: top;\n    }\n\n    .dataframe thead th {\n        text-align: right;\n    }\n</style>\n<table border=\"1\" class=\"dataframe\">\n  <thead>\n    <tr style=\"text-align: right;\">\n      <th></th>\n      <th>fixed acidity</th>\n      <th>volatile acidity</th>\n      <th>citric acid</th>\n      <th>residual sugar</th>\n      <th>chlorides</th>\n      <th>free sulfur dioxide</th>\n      <th>total sulfur dioxide</th>\n      <th>density</th>\n      <th>pH</th>\n      <th>sulphates</th>\n      <th>alcohol</th>\n      <th>quality</th>\n    </tr>\n  </thead>\n  <tbody>\n    <tr>\n      <th>count</th>\n      <td>6463.000000</td>\n      <td>6463.000000</td>\n      <td>6463.000000</td>\n      <td>6463.000000</td>\n      <td>6463.000000</td>\n      <td>6463.000000</td>\n      <td>6463.000000</td>\n      <td>6463.000000</td>\n      <td>6463.000000</td>\n      <td>6463.000000</td>\n      <td>6463.000000</td>\n      <td>6463.000000</td>\n    </tr>\n    <tr>\n      <th>mean</th>\n      <td>7.217755</td>\n      <td>0.339589</td>\n      <td>0.318758</td>\n      <td>5.443958</td>\n      <td>0.056056</td>\n      <td>30.516865</td>\n      <td>115.694492</td>\n      <td>0.994698</td>\n      <td>3.218332</td>\n      <td>0.531150</td>\n      <td>10.492825</td>\n      <td>5.818505</td>\n    </tr>\n    <tr>\n      <th>std</th>\n      <td>1.297913</td>\n      <td>0.164639</td>\n      <td>0.145252</td>\n      <td>4.756852</td>\n      <td>0.035076</td>\n      <td>17.758815</td>\n      <td>56.526736</td>\n      <td>0.003001</td>\n      <td>0.160650</td>\n      <td>0.148913</td>\n      <td>1.193128</td>\n      <td>0.873286</td>\n    </tr>\n    <tr>\n      <th>min</th>\n      <td>3.800000</td>\n      <td>0.080000</td>\n      <td>0.000000</td>\n      <td>0.600000</td>\n      <td>0.009000</td>\n      <td>1.000000</td>\n      <td>6.000000</td>\n      <td>0.987110</td>\n      <td>2.720000</td>\n      <td>0.220000</td>\n      <td>8.000000</td>\n      <td>3.000000</td>\n    </tr>\n    <tr>\n      <th>25%</th>\n      <td>6.400000</td>\n      <td>0.230000</td>\n      <td>0.250000</td>\n      <td>1.800000</td>\n      <td>0.038000</td>\n      <td>17.000000</td>\n      <td>77.000000</td>\n      <td>0.992330</td>\n      <td>3.110000</td>\n      <td>0.430000</td>\n      <td>9.500000</td>\n      <td>5.000000</td>\n    </tr>\n    <tr>\n      <th>50%</th>\n      <td>7.000000</td>\n      <td>0.290000</td>\n      <td>0.310000</td>\n      <td>3.000000</td>\n      <td>0.047000</td>\n      <td>29.000000</td>\n      <td>118.000000</td>\n      <td>0.994890</td>\n      <td>3.210000</td>\n      <td>0.510000</td>\n      <td>10.300000</td>\n      <td>6.000000</td>\n    </tr>\n    <tr>\n      <th>75%</th>\n      <td>7.700000</td>\n      <td>0.400000</td>\n      <td>0.390000</td>\n      <td>8.100000</td>\n      <td>0.065000</td>\n      <td>41.000000</td>\n      <td>156.000000</td>\n      <td>0.997000</td>\n      <td>3.320000</td>\n      <td>0.600000</td>\n      <td>11.300000</td>\n      <td>6.000000</td>\n    </tr>\n    <tr>\n      <th>max</th>\n      <td>15.900000</td>\n      <td>1.580000</td>\n      <td>1.660000</td>\n      <td>65.800000</td>\n      <td>0.611000</td>\n      <td>289.000000</td>\n      <td>440.000000</td>\n      <td>1.038980</td>\n      <td>4.010000</td>\n      <td>2.000000</td>\n      <td>14.900000</td>\n      <td>9.000000</td>\n    </tr>\n  </tbody>\n</table>\n</div>"
     },
     "execution_count": 25,
     "metadata": {},
     "output_type": "execute_result"
    }
   ],
   "source": [
    "X_unscaled.describe()"
   ]
  },
  {
   "cell_type": "code",
   "execution_count": 26,
   "metadata": {
    "execution": {
     "iopub.execute_input": "2021-01-18T08:45:24.650708Z",
     "iopub.status.busy": "2021-01-18T08:45:24.649729Z",
     "iopub.status.idle": "2021-01-18T08:45:24.656125Z",
     "shell.execute_reply": "2021-01-18T08:45:24.655151Z"
    },
    "papermill": {
     "duration": 0.101872,
     "end_time": "2021-01-18T08:45:24.656267",
     "exception": false,
     "start_time": "2021-01-18T08:45:24.554395",
     "status": "completed"
    },
    "tags": []
   },
   "outputs": [],
   "source": [
    "scaled_values=std_scaler.transform(X_unscaled)"
   ]
  },
  {
   "cell_type": "code",
   "execution_count": 27,
   "metadata": {
    "execution": {
     "iopub.execute_input": "2021-01-18T08:45:24.827479Z",
     "iopub.status.busy": "2021-01-18T08:45:24.826466Z",
     "iopub.status.idle": "2021-01-18T08:45:24.831903Z",
     "shell.execute_reply": "2021-01-18T08:45:24.830195Z"
    },
    "papermill": {
     "duration": 0.09299,
     "end_time": "2021-01-18T08:45:24.832038",
     "exception": false,
     "start_time": "2021-01-18T08:45:24.739048",
     "status": "completed"
    },
    "tags": []
   },
   "outputs": [],
   "source": [
    "X_scaled = pd.DataFrame(scaled_values)"
   ]
  },
  {
   "cell_type": "code",
   "execution_count": 28,
   "metadata": {
    "execution": {
     "iopub.execute_input": "2021-01-18T08:45:25.002384Z",
     "iopub.status.busy": "2021-01-18T08:45:25.001698Z",
     "iopub.status.idle": "2021-01-18T08:45:25.009741Z",
     "shell.execute_reply": "2021-01-18T08:45:25.010340Z"
    },
    "papermill": {
     "duration": 0.095217,
     "end_time": "2021-01-18T08:45:25.010493",
     "exception": false,
     "start_time": "2021-01-18T08:45:24.915276",
     "status": "completed"
    },
    "tags": []
   },
   "outputs": [],
   "source": [
    "X_scaled.columns = [\"fixed acidity\",\"volatile acidity\",\"citric acid\",\"residual sugar\",\"chlorides\",\"free sulfur dioxide\",\"total sulfur dioxide\",\"density\",\"pH\",\"sulphates\",\"alcohol\",\"quality\"]"
   ]
  },
  {
   "cell_type": "code",
   "execution_count": 29,
   "metadata": {
    "execution": {
     "iopub.execute_input": "2021-01-18T08:45:25.129077Z",
     "iopub.status.busy": "2021-01-18T08:45:25.128383Z",
     "iopub.status.idle": "2021-01-18T08:45:25.182712Z",
     "shell.execute_reply": "2021-01-18T08:45:25.182085Z"
    },
    "papermill": {
     "duration": 0.114818,
     "end_time": "2021-01-18T08:45:25.182829",
     "exception": false,
     "start_time": "2021-01-18T08:45:25.068011",
     "status": "completed"
    },
    "tags": []
   },
   "outputs": [
    {
     "data": {
      "text/plain": "       fixed acidity  volatile acidity   citric acid  residual sugar  \\\ncount   6.463000e+03      6.463000e+03  6.463000e+03    6.463000e+03   \nmean    7.496539e-17     -5.499667e-16  5.397130e-15   -5.625840e-16   \nstd     1.000077e+00      1.000077e+00  1.000077e+00    1.000077e+00   \nmin    -2.633473e+00     -1.576837e+00 -2.194680e+00   -1.018391e+00   \n25%    -6.301024e-01     -6.656838e-01 -4.734030e-01   -7.661033e-01   \n50%    -1.677861e-01     -3.012225e-01 -6.029661e-02   -5.138161e-01   \n75%     3.715830e-01      3.669567e-01  4.905119e-01    5.584045e-01   \nmax     6.689906e+00      7.534697e+00  9.234597e+00    1.268921e+01   \n\n          chlorides  free sulfur dioxide  total sulfur dioxide       density  \\\ncount  6.463000e+03         6.463000e+03          6.463000e+03  6.463000e+03   \nmean  -9.417914e-17         4.072593e-16          4.233037e-16  5.212812e-14   \nstd    1.000077e+00         1.000077e+00          1.000077e+00  1.000077e+00   \nmin   -1.341655e+00        -1.662225e+00         -1.940727e+00 -2.528205e+00   \n25%   -5.148107e-01        -7.611944e-01         -6.845873e-01 -7.889073e-01   \n50%   -2.582038e-01        -8.542138e-02          4.078931e-02  6.408161e-02   \n75%    2.550099e-01         5.903516e-01          7.130896e-01  7.671311e-01   \nmax    1.582249e+01         1.455633e+01          5.737650e+00  1.475482e+01   \n\n                 pH     sulphates       alcohol       quality  \ncount  6.463000e+03  6.463000e+03  6.463000e+03  6.463000e+03  \nmean   1.552869e-15  5.248093e-16 -3.829866e-17  3.178943e-16  \nstd    1.000077e+00  1.000077e+00  1.000077e+00  1.000077e+00  \nmin   -3.102215e+00 -2.089628e+00 -2.089480e+00 -3.227720e+00  \n25%   -6.743884e-01 -6.793038e-01 -8.321839e-01 -9.373430e-01  \n50%   -5.186862e-02 -1.420373e-01 -1.616257e-01  2.078456e-01  \n75%    6.329031e-01  4.623876e-01  6.765720e-01  2.078456e-01  \nmax    4.928289e+00  9.864552e+00  3.694084e+00  3.643411e+00  ",
      "text/html": "<div>\n<style scoped>\n    .dataframe tbody tr th:only-of-type {\n        vertical-align: middle;\n    }\n\n    .dataframe tbody tr th {\n        vertical-align: top;\n    }\n\n    .dataframe thead th {\n        text-align: right;\n    }\n</style>\n<table border=\"1\" class=\"dataframe\">\n  <thead>\n    <tr style=\"text-align: right;\">\n      <th></th>\n      <th>fixed acidity</th>\n      <th>volatile acidity</th>\n      <th>citric acid</th>\n      <th>residual sugar</th>\n      <th>chlorides</th>\n      <th>free sulfur dioxide</th>\n      <th>total sulfur dioxide</th>\n      <th>density</th>\n      <th>pH</th>\n      <th>sulphates</th>\n      <th>alcohol</th>\n      <th>quality</th>\n    </tr>\n  </thead>\n  <tbody>\n    <tr>\n      <th>count</th>\n      <td>6.463000e+03</td>\n      <td>6.463000e+03</td>\n      <td>6.463000e+03</td>\n      <td>6.463000e+03</td>\n      <td>6.463000e+03</td>\n      <td>6.463000e+03</td>\n      <td>6.463000e+03</td>\n      <td>6.463000e+03</td>\n      <td>6.463000e+03</td>\n      <td>6.463000e+03</td>\n      <td>6.463000e+03</td>\n      <td>6.463000e+03</td>\n    </tr>\n    <tr>\n      <th>mean</th>\n      <td>7.496539e-17</td>\n      <td>-5.499667e-16</td>\n      <td>5.397130e-15</td>\n      <td>-5.625840e-16</td>\n      <td>-9.417914e-17</td>\n      <td>4.072593e-16</td>\n      <td>4.233037e-16</td>\n      <td>5.212812e-14</td>\n      <td>1.552869e-15</td>\n      <td>5.248093e-16</td>\n      <td>-3.829866e-17</td>\n      <td>3.178943e-16</td>\n    </tr>\n    <tr>\n      <th>std</th>\n      <td>1.000077e+00</td>\n      <td>1.000077e+00</td>\n      <td>1.000077e+00</td>\n      <td>1.000077e+00</td>\n      <td>1.000077e+00</td>\n      <td>1.000077e+00</td>\n      <td>1.000077e+00</td>\n      <td>1.000077e+00</td>\n      <td>1.000077e+00</td>\n      <td>1.000077e+00</td>\n      <td>1.000077e+00</td>\n      <td>1.000077e+00</td>\n    </tr>\n    <tr>\n      <th>min</th>\n      <td>-2.633473e+00</td>\n      <td>-1.576837e+00</td>\n      <td>-2.194680e+00</td>\n      <td>-1.018391e+00</td>\n      <td>-1.341655e+00</td>\n      <td>-1.662225e+00</td>\n      <td>-1.940727e+00</td>\n      <td>-2.528205e+00</td>\n      <td>-3.102215e+00</td>\n      <td>-2.089628e+00</td>\n      <td>-2.089480e+00</td>\n      <td>-3.227720e+00</td>\n    </tr>\n    <tr>\n      <th>25%</th>\n      <td>-6.301024e-01</td>\n      <td>-6.656838e-01</td>\n      <td>-4.734030e-01</td>\n      <td>-7.661033e-01</td>\n      <td>-5.148107e-01</td>\n      <td>-7.611944e-01</td>\n      <td>-6.845873e-01</td>\n      <td>-7.889073e-01</td>\n      <td>-6.743884e-01</td>\n      <td>-6.793038e-01</td>\n      <td>-8.321839e-01</td>\n      <td>-9.373430e-01</td>\n    </tr>\n    <tr>\n      <th>50%</th>\n      <td>-1.677861e-01</td>\n      <td>-3.012225e-01</td>\n      <td>-6.029661e-02</td>\n      <td>-5.138161e-01</td>\n      <td>-2.582038e-01</td>\n      <td>-8.542138e-02</td>\n      <td>4.078931e-02</td>\n      <td>6.408161e-02</td>\n      <td>-5.186862e-02</td>\n      <td>-1.420373e-01</td>\n      <td>-1.616257e-01</td>\n      <td>2.078456e-01</td>\n    </tr>\n    <tr>\n      <th>75%</th>\n      <td>3.715830e-01</td>\n      <td>3.669567e-01</td>\n      <td>4.905119e-01</td>\n      <td>5.584045e-01</td>\n      <td>2.550099e-01</td>\n      <td>5.903516e-01</td>\n      <td>7.130896e-01</td>\n      <td>7.671311e-01</td>\n      <td>6.329031e-01</td>\n      <td>4.623876e-01</td>\n      <td>6.765720e-01</td>\n      <td>2.078456e-01</td>\n    </tr>\n    <tr>\n      <th>max</th>\n      <td>6.689906e+00</td>\n      <td>7.534697e+00</td>\n      <td>9.234597e+00</td>\n      <td>1.268921e+01</td>\n      <td>1.582249e+01</td>\n      <td>1.455633e+01</td>\n      <td>5.737650e+00</td>\n      <td>1.475482e+01</td>\n      <td>4.928289e+00</td>\n      <td>9.864552e+00</td>\n      <td>3.694084e+00</td>\n      <td>3.643411e+00</td>\n    </tr>\n  </tbody>\n</table>\n</div>"
     },
     "execution_count": 29,
     "metadata": {},
     "output_type": "execute_result"
    }
   ],
   "source": [
    "X_scaled.describe()"
   ]
  },
  {
   "cell_type": "code",
   "execution_count": 30,
   "metadata": {
    "execution": {
     "iopub.execute_input": "2021-01-18T08:45:25.303759Z",
     "iopub.status.busy": "2021-01-18T08:45:25.302876Z",
     "iopub.status.idle": "2021-01-18T08:45:25.309931Z",
     "shell.execute_reply": "2021-01-18T08:45:25.309304Z"
    },
    "papermill": {
     "duration": 0.070253,
     "end_time": "2021-01-18T08:45:25.310051",
     "exception": false,
     "start_time": "2021-01-18T08:45:25.239798",
     "status": "completed"
    },
    "tags": []
   },
   "outputs": [],
   "source": [
    "X_scaled.drop(\"quality\",axis=1,inplace=True)"
   ]
  },
  {
   "cell_type": "code",
   "execution_count": 31,
   "metadata": {
    "execution": {
     "iopub.execute_input": "2021-01-18T08:45:25.434480Z",
     "iopub.status.busy": "2021-01-18T08:45:25.433808Z",
     "iopub.status.idle": "2021-01-18T08:45:25.480971Z",
     "shell.execute_reply": "2021-01-18T08:45:25.480384Z"
    },
    "papermill": {
     "duration": 0.11373,
     "end_time": "2021-01-18T08:45:25.481088",
     "exception": false,
     "start_time": "2021-01-18T08:45:25.367358",
     "status": "completed"
    },
    "tags": []
   },
   "outputs": [
    {
     "data": {
      "text/plain": "       fixed acidity  volatile acidity   citric acid  residual sugar  \\\ncount   6.463000e+03      6.463000e+03  6.463000e+03    6.463000e+03   \nmean    7.496539e-17     -5.499667e-16  5.397130e-15   -5.625840e-16   \nstd     1.000077e+00      1.000077e+00  1.000077e+00    1.000077e+00   \nmin    -2.633473e+00     -1.576837e+00 -2.194680e+00   -1.018391e+00   \n25%    -6.301024e-01     -6.656838e-01 -4.734030e-01   -7.661033e-01   \n50%    -1.677861e-01     -3.012225e-01 -6.029661e-02   -5.138161e-01   \n75%     3.715830e-01      3.669567e-01  4.905119e-01    5.584045e-01   \nmax     6.689906e+00      7.534697e+00  9.234597e+00    1.268921e+01   \n\n          chlorides  free sulfur dioxide  total sulfur dioxide       density  \\\ncount  6.463000e+03         6.463000e+03          6.463000e+03  6.463000e+03   \nmean  -9.417914e-17         4.072593e-16          4.233037e-16  5.212812e-14   \nstd    1.000077e+00         1.000077e+00          1.000077e+00  1.000077e+00   \nmin   -1.341655e+00        -1.662225e+00         -1.940727e+00 -2.528205e+00   \n25%   -5.148107e-01        -7.611944e-01         -6.845873e-01 -7.889073e-01   \n50%   -2.582038e-01        -8.542138e-02          4.078931e-02  6.408161e-02   \n75%    2.550099e-01         5.903516e-01          7.130896e-01  7.671311e-01   \nmax    1.582249e+01         1.455633e+01          5.737650e+00  1.475482e+01   \n\n                 pH     sulphates       alcohol  \ncount  6.463000e+03  6.463000e+03  6.463000e+03  \nmean   1.552869e-15  5.248093e-16 -3.829866e-17  \nstd    1.000077e+00  1.000077e+00  1.000077e+00  \nmin   -3.102215e+00 -2.089628e+00 -2.089480e+00  \n25%   -6.743884e-01 -6.793038e-01 -8.321839e-01  \n50%   -5.186862e-02 -1.420373e-01 -1.616257e-01  \n75%    6.329031e-01  4.623876e-01  6.765720e-01  \nmax    4.928289e+00  9.864552e+00  3.694084e+00  ",
      "text/html": "<div>\n<style scoped>\n    .dataframe tbody tr th:only-of-type {\n        vertical-align: middle;\n    }\n\n    .dataframe tbody tr th {\n        vertical-align: top;\n    }\n\n    .dataframe thead th {\n        text-align: right;\n    }\n</style>\n<table border=\"1\" class=\"dataframe\">\n  <thead>\n    <tr style=\"text-align: right;\">\n      <th></th>\n      <th>fixed acidity</th>\n      <th>volatile acidity</th>\n      <th>citric acid</th>\n      <th>residual sugar</th>\n      <th>chlorides</th>\n      <th>free sulfur dioxide</th>\n      <th>total sulfur dioxide</th>\n      <th>density</th>\n      <th>pH</th>\n      <th>sulphates</th>\n      <th>alcohol</th>\n    </tr>\n  </thead>\n  <tbody>\n    <tr>\n      <th>count</th>\n      <td>6.463000e+03</td>\n      <td>6.463000e+03</td>\n      <td>6.463000e+03</td>\n      <td>6.463000e+03</td>\n      <td>6.463000e+03</td>\n      <td>6.463000e+03</td>\n      <td>6.463000e+03</td>\n      <td>6.463000e+03</td>\n      <td>6.463000e+03</td>\n      <td>6.463000e+03</td>\n      <td>6.463000e+03</td>\n    </tr>\n    <tr>\n      <th>mean</th>\n      <td>7.496539e-17</td>\n      <td>-5.499667e-16</td>\n      <td>5.397130e-15</td>\n      <td>-5.625840e-16</td>\n      <td>-9.417914e-17</td>\n      <td>4.072593e-16</td>\n      <td>4.233037e-16</td>\n      <td>5.212812e-14</td>\n      <td>1.552869e-15</td>\n      <td>5.248093e-16</td>\n      <td>-3.829866e-17</td>\n    </tr>\n    <tr>\n      <th>std</th>\n      <td>1.000077e+00</td>\n      <td>1.000077e+00</td>\n      <td>1.000077e+00</td>\n      <td>1.000077e+00</td>\n      <td>1.000077e+00</td>\n      <td>1.000077e+00</td>\n      <td>1.000077e+00</td>\n      <td>1.000077e+00</td>\n      <td>1.000077e+00</td>\n      <td>1.000077e+00</td>\n      <td>1.000077e+00</td>\n    </tr>\n    <tr>\n      <th>min</th>\n      <td>-2.633473e+00</td>\n      <td>-1.576837e+00</td>\n      <td>-2.194680e+00</td>\n      <td>-1.018391e+00</td>\n      <td>-1.341655e+00</td>\n      <td>-1.662225e+00</td>\n      <td>-1.940727e+00</td>\n      <td>-2.528205e+00</td>\n      <td>-3.102215e+00</td>\n      <td>-2.089628e+00</td>\n      <td>-2.089480e+00</td>\n    </tr>\n    <tr>\n      <th>25%</th>\n      <td>-6.301024e-01</td>\n      <td>-6.656838e-01</td>\n      <td>-4.734030e-01</td>\n      <td>-7.661033e-01</td>\n      <td>-5.148107e-01</td>\n      <td>-7.611944e-01</td>\n      <td>-6.845873e-01</td>\n      <td>-7.889073e-01</td>\n      <td>-6.743884e-01</td>\n      <td>-6.793038e-01</td>\n      <td>-8.321839e-01</td>\n    </tr>\n    <tr>\n      <th>50%</th>\n      <td>-1.677861e-01</td>\n      <td>-3.012225e-01</td>\n      <td>-6.029661e-02</td>\n      <td>-5.138161e-01</td>\n      <td>-2.582038e-01</td>\n      <td>-8.542138e-02</td>\n      <td>4.078931e-02</td>\n      <td>6.408161e-02</td>\n      <td>-5.186862e-02</td>\n      <td>-1.420373e-01</td>\n      <td>-1.616257e-01</td>\n    </tr>\n    <tr>\n      <th>75%</th>\n      <td>3.715830e-01</td>\n      <td>3.669567e-01</td>\n      <td>4.905119e-01</td>\n      <td>5.584045e-01</td>\n      <td>2.550099e-01</td>\n      <td>5.903516e-01</td>\n      <td>7.130896e-01</td>\n      <td>7.671311e-01</td>\n      <td>6.329031e-01</td>\n      <td>4.623876e-01</td>\n      <td>6.765720e-01</td>\n    </tr>\n    <tr>\n      <th>max</th>\n      <td>6.689906e+00</td>\n      <td>7.534697e+00</td>\n      <td>9.234597e+00</td>\n      <td>1.268921e+01</td>\n      <td>1.582249e+01</td>\n      <td>1.455633e+01</td>\n      <td>5.737650e+00</td>\n      <td>1.475482e+01</td>\n      <td>4.928289e+00</td>\n      <td>9.864552e+00</td>\n      <td>3.694084e+00</td>\n    </tr>\n  </tbody>\n</table>\n</div>"
     },
     "execution_count": 31,
     "metadata": {},
     "output_type": "execute_result"
    }
   ],
   "source": [
    "X_scaled.describe()"
   ]
  },
  {
   "cell_type": "code",
   "execution_count": 32,
   "metadata": {
    "execution": {
     "iopub.execute_input": "2021-01-18T08:45:25.599359Z",
     "iopub.status.busy": "2021-01-18T08:45:25.598488Z",
     "iopub.status.idle": "2021-01-18T08:45:25.605527Z",
     "shell.execute_reply": "2021-01-18T08:45:25.606017Z"
    },
    "papermill": {
     "duration": 0.06805,
     "end_time": "2021-01-18T08:45:25.606198",
     "exception": false,
     "start_time": "2021-01-18T08:45:25.538148",
     "status": "completed"
    },
    "tags": []
   },
   "outputs": [],
   "source": [
    "from sklearn.pipeline import Pipeline"
   ]
  },
  {
   "cell_type": "code",
   "execution_count": 33,
   "metadata": {
    "execution": {
     "iopub.execute_input": "2021-01-18T08:45:25.727882Z",
     "iopub.status.busy": "2021-01-18T08:45:25.726953Z",
     "iopub.status.idle": "2021-01-18T08:45:25.737568Z",
     "shell.execute_reply": "2021-01-18T08:45:25.738076Z"
    },
    "papermill": {
     "duration": 0.077041,
     "end_time": "2021-01-18T08:45:25.738253",
     "exception": false,
     "start_time": "2021-01-18T08:45:25.661212",
     "status": "completed"
    },
    "tags": []
   },
   "outputs": [],
   "source": [
    "num_pipeline = Pipeline([\n",
    "('std_scaler', StandardScaler()),\n",
    "])\n",
    "wine_num_tr = num_pipeline.fit_transform(X_unscaled)"
   ]
  },
  {
   "cell_type": "code",
   "execution_count": 34,
   "metadata": {
    "execution": {
     "iopub.execute_input": "2021-01-18T08:45:25.855208Z",
     "iopub.status.busy": "2021-01-18T08:45:25.854582Z",
     "iopub.status.idle": "2021-01-18T08:45:25.862693Z",
     "shell.execute_reply": "2021-01-18T08:45:25.862042Z"
    },
    "papermill": {
     "duration": 0.069206,
     "end_time": "2021-01-18T08:45:25.862806",
     "exception": false,
     "start_time": "2021-01-18T08:45:25.793600",
     "status": "completed"
    },
    "tags": []
   },
   "outputs": [
    {
     "data": {
      "text/plain": "array([[-0.16778609, -0.42270958,  0.2839587 , ..., -0.5449872 ,\n        -1.41892232,  0.20784562],\n       [-0.70715516, -0.2404789 ,  0.14625658, ..., -0.27635393,\n        -0.83218392,  0.20784562],\n       [ 0.67979387, -0.36196602,  0.55936296, ..., -0.61214551,\n        -0.32926528,  0.20784562],\n       ...,\n       [-0.70715516,  1.03513588, -1.29961576, ...,  1.46976231,\n         0.42511267,  0.20784562],\n       [-1.01536606,  1.85517396, -1.36846682, ...,  1.20112905,\n        -0.24544551, -0.937343  ],\n       [-0.93831333, -0.17973534,  1.0413204 , ...,  0.86533746,\n         0.42511267,  0.20784562]])"
     },
     "execution_count": 34,
     "metadata": {},
     "output_type": "execute_result"
    }
   ],
   "source": [
    "wine_num_tr "
   ]
  },
  {
   "cell_type": "code",
   "execution_count": 35,
   "metadata": {
    "execution": {
     "iopub.execute_input": "2021-01-18T08:45:25.981473Z",
     "iopub.status.busy": "2021-01-18T08:45:25.980801Z",
     "iopub.status.idle": "2021-01-18T08:45:25.985360Z",
     "shell.execute_reply": "2021-01-18T08:45:25.985990Z"
    },
    "papermill": {
     "duration": 0.066853,
     "end_time": "2021-01-18T08:45:25.986156",
     "exception": false,
     "start_time": "2021-01-18T08:45:25.919303",
     "status": "completed"
    },
    "tags": []
   },
   "outputs": [],
   "source": [
    "wine_pipeline = pd.DataFrame(wine_num_tr)"
   ]
  },
  {
   "cell_type": "code",
   "execution_count": 36,
   "metadata": {
    "execution": {
     "iopub.execute_input": "2021-01-18T08:45:26.106250Z",
     "iopub.status.busy": "2021-01-18T08:45:26.105389Z",
     "iopub.status.idle": "2021-01-18T08:45:26.109143Z",
     "shell.execute_reply": "2021-01-18T08:45:26.108377Z"
    },
    "papermill": {
     "duration": 0.066694,
     "end_time": "2021-01-18T08:45:26.109280",
     "exception": false,
     "start_time": "2021-01-18T08:45:26.042586",
     "status": "completed"
    },
    "tags": []
   },
   "outputs": [],
   "source": [
    "wine_pipeline.columns = [\"fixed acidity\",\"volatile acidity\",\"citric acid\",\"residual sugar\",\"chlorides\",\"free sulfur dioxide\",\"total sulfur dioxide\",\"density\",\"pH\",\"sulphates\",\"alcohol\",\"quality\"]"
   ]
  },
  {
   "cell_type": "code",
   "execution_count": 37,
   "metadata": {
    "execution": {
     "iopub.execute_input": "2021-01-18T08:45:26.290007Z",
     "iopub.status.busy": "2021-01-18T08:45:26.288930Z",
     "iopub.status.idle": "2021-01-18T08:45:26.308527Z",
     "shell.execute_reply": "2021-01-18T08:45:26.309250Z"
    },
    "papermill": {
     "duration": 0.108994,
     "end_time": "2021-01-18T08:45:26.309426",
     "exception": false,
     "start_time": "2021-01-18T08:45:26.200432",
     "status": "completed"
    },
    "tags": []
   },
   "outputs": [
    {
     "data": {
      "text/plain": "   fixed acidity  volatile acidity  citric acid  residual sugar  chlorides  \\\n0      -0.167786         -0.422710     0.283959        3.207420  -0.315228   \n1      -0.707155         -0.240479     0.146257       -0.808151  -0.201180   \n2       0.679794         -0.361966     0.559363        0.306117  -0.172668   \n3      -0.013681         -0.665684     0.008554        0.642500   0.055427   \n4      -0.013681         -0.665684     0.008554        0.642500   0.055427   \n\n   free sulfur dioxide  total sulfur dioxide   density        pH  sulphates  \\\n0             0.815609              0.960779  2.099926 -1.359160  -0.544987   \n1            -0.930138              0.288479 -0.232465  0.508399  -0.276354   \n2            -0.029107             -0.330745  0.134053  0.259391  -0.612146   \n3             0.928238              1.243853  0.300653 -0.176373  -0.880779   \n4             0.928238              1.243853  0.300653 -0.176373  -0.880779   \n\n    alcohol   quality  \n0 -1.418922  0.207846  \n1 -0.832184  0.207846  \n2 -0.329265  0.207846  \n3 -0.496905  0.207846  \n4 -0.496905  0.207846  ",
      "text/html": "<div>\n<style scoped>\n    .dataframe tbody tr th:only-of-type {\n        vertical-align: middle;\n    }\n\n    .dataframe tbody tr th {\n        vertical-align: top;\n    }\n\n    .dataframe thead th {\n        text-align: right;\n    }\n</style>\n<table border=\"1\" class=\"dataframe\">\n  <thead>\n    <tr style=\"text-align: right;\">\n      <th></th>\n      <th>fixed acidity</th>\n      <th>volatile acidity</th>\n      <th>citric acid</th>\n      <th>residual sugar</th>\n      <th>chlorides</th>\n      <th>free sulfur dioxide</th>\n      <th>total sulfur dioxide</th>\n      <th>density</th>\n      <th>pH</th>\n      <th>sulphates</th>\n      <th>alcohol</th>\n      <th>quality</th>\n    </tr>\n  </thead>\n  <tbody>\n    <tr>\n      <th>0</th>\n      <td>-0.167786</td>\n      <td>-0.422710</td>\n      <td>0.283959</td>\n      <td>3.207420</td>\n      <td>-0.315228</td>\n      <td>0.815609</td>\n      <td>0.960779</td>\n      <td>2.099926</td>\n      <td>-1.359160</td>\n      <td>-0.544987</td>\n      <td>-1.418922</td>\n      <td>0.207846</td>\n    </tr>\n    <tr>\n      <th>1</th>\n      <td>-0.707155</td>\n      <td>-0.240479</td>\n      <td>0.146257</td>\n      <td>-0.808151</td>\n      <td>-0.201180</td>\n      <td>-0.930138</td>\n      <td>0.288479</td>\n      <td>-0.232465</td>\n      <td>0.508399</td>\n      <td>-0.276354</td>\n      <td>-0.832184</td>\n      <td>0.207846</td>\n    </tr>\n    <tr>\n      <th>2</th>\n      <td>0.679794</td>\n      <td>-0.361966</td>\n      <td>0.559363</td>\n      <td>0.306117</td>\n      <td>-0.172668</td>\n      <td>-0.029107</td>\n      <td>-0.330745</td>\n      <td>0.134053</td>\n      <td>0.259391</td>\n      <td>-0.612146</td>\n      <td>-0.329265</td>\n      <td>0.207846</td>\n    </tr>\n    <tr>\n      <th>3</th>\n      <td>-0.013681</td>\n      <td>-0.665684</td>\n      <td>0.008554</td>\n      <td>0.642500</td>\n      <td>0.055427</td>\n      <td>0.928238</td>\n      <td>1.243853</td>\n      <td>0.300653</td>\n      <td>-0.176373</td>\n      <td>-0.880779</td>\n      <td>-0.496905</td>\n      <td>0.207846</td>\n    </tr>\n    <tr>\n      <th>4</th>\n      <td>-0.013681</td>\n      <td>-0.665684</td>\n      <td>0.008554</td>\n      <td>0.642500</td>\n      <td>0.055427</td>\n      <td>0.928238</td>\n      <td>1.243853</td>\n      <td>0.300653</td>\n      <td>-0.176373</td>\n      <td>-0.880779</td>\n      <td>-0.496905</td>\n      <td>0.207846</td>\n    </tr>\n  </tbody>\n</table>\n</div>"
     },
     "execution_count": 37,
     "metadata": {},
     "output_type": "execute_result"
    }
   ],
   "source": [
    "wine_pipeline.head()"
   ]
  },
  {
   "cell_type": "code",
   "execution_count": 38,
   "metadata": {
    "execution": {
     "iopub.execute_input": "2021-01-18T08:45:26.505537Z",
     "iopub.status.busy": "2021-01-18T08:45:26.502492Z",
     "iopub.status.idle": "2021-01-18T08:45:26.511966Z",
     "shell.execute_reply": "2021-01-18T08:45:26.511164Z"
    },
    "papermill": {
     "duration": 0.116616,
     "end_time": "2021-01-18T08:45:26.512097",
     "exception": false,
     "start_time": "2021-01-18T08:45:26.395481",
     "status": "completed"
    },
    "tags": []
   },
   "outputs": [
    {
     "data": {
      "text/plain": "   fixed acidity  volatile acidity  citric acid  residual sugar  chlorides  \\\n0      -0.167786         -0.422710     0.283959        3.207420  -0.315228   \n1      -0.707155         -0.240479     0.146257       -0.808151  -0.201180   \n2       0.679794         -0.361966     0.559363        0.306117  -0.172668   \n3      -0.013681         -0.665684     0.008554        0.642500   0.055427   \n4      -0.013681         -0.665684     0.008554        0.642500   0.055427   \n\n   free sulfur dioxide  total sulfur dioxide   density        pH  sulphates  \\\n0             0.815609              0.960779  2.099926 -1.359160  -0.544987   \n1            -0.930138              0.288479 -0.232465  0.508399  -0.276354   \n2            -0.029107             -0.330745  0.134053  0.259391  -0.612146   \n3             0.928238              1.243853  0.300653 -0.176373  -0.880779   \n4             0.928238              1.243853  0.300653 -0.176373  -0.880779   \n\n    alcohol  \n0 -1.418922  \n1 -0.832184  \n2 -0.329265  \n3 -0.496905  \n4 -0.496905  ",
      "text/html": "<div>\n<style scoped>\n    .dataframe tbody tr th:only-of-type {\n        vertical-align: middle;\n    }\n\n    .dataframe tbody tr th {\n        vertical-align: top;\n    }\n\n    .dataframe thead th {\n        text-align: right;\n    }\n</style>\n<table border=\"1\" class=\"dataframe\">\n  <thead>\n    <tr style=\"text-align: right;\">\n      <th></th>\n      <th>fixed acidity</th>\n      <th>volatile acidity</th>\n      <th>citric acid</th>\n      <th>residual sugar</th>\n      <th>chlorides</th>\n      <th>free sulfur dioxide</th>\n      <th>total sulfur dioxide</th>\n      <th>density</th>\n      <th>pH</th>\n      <th>sulphates</th>\n      <th>alcohol</th>\n    </tr>\n  </thead>\n  <tbody>\n    <tr>\n      <th>0</th>\n      <td>-0.167786</td>\n      <td>-0.422710</td>\n      <td>0.283959</td>\n      <td>3.207420</td>\n      <td>-0.315228</td>\n      <td>0.815609</td>\n      <td>0.960779</td>\n      <td>2.099926</td>\n      <td>-1.359160</td>\n      <td>-0.544987</td>\n      <td>-1.418922</td>\n    </tr>\n    <tr>\n      <th>1</th>\n      <td>-0.707155</td>\n      <td>-0.240479</td>\n      <td>0.146257</td>\n      <td>-0.808151</td>\n      <td>-0.201180</td>\n      <td>-0.930138</td>\n      <td>0.288479</td>\n      <td>-0.232465</td>\n      <td>0.508399</td>\n      <td>-0.276354</td>\n      <td>-0.832184</td>\n    </tr>\n    <tr>\n      <th>2</th>\n      <td>0.679794</td>\n      <td>-0.361966</td>\n      <td>0.559363</td>\n      <td>0.306117</td>\n      <td>-0.172668</td>\n      <td>-0.029107</td>\n      <td>-0.330745</td>\n      <td>0.134053</td>\n      <td>0.259391</td>\n      <td>-0.612146</td>\n      <td>-0.329265</td>\n    </tr>\n    <tr>\n      <th>3</th>\n      <td>-0.013681</td>\n      <td>-0.665684</td>\n      <td>0.008554</td>\n      <td>0.642500</td>\n      <td>0.055427</td>\n      <td>0.928238</td>\n      <td>1.243853</td>\n      <td>0.300653</td>\n      <td>-0.176373</td>\n      <td>-0.880779</td>\n      <td>-0.496905</td>\n    </tr>\n    <tr>\n      <th>4</th>\n      <td>-0.013681</td>\n      <td>-0.665684</td>\n      <td>0.008554</td>\n      <td>0.642500</td>\n      <td>0.055427</td>\n      <td>0.928238</td>\n      <td>1.243853</td>\n      <td>0.300653</td>\n      <td>-0.176373</td>\n      <td>-0.880779</td>\n      <td>-0.496905</td>\n    </tr>\n  </tbody>\n</table>\n</div>"
     },
     "execution_count": 38,
     "metadata": {},
     "output_type": "execute_result"
    }
   ],
   "source": [
    "wine_pipeline.drop(\"quality\",axis=1,inplace=True)\n",
    "wine_pipeline.head()"
   ]
  },
  {
   "cell_type": "code",
   "execution_count": 39,
   "metadata": {
    "execution": {
     "iopub.execute_input": "2021-01-18T08:45:26.689762Z",
     "iopub.status.busy": "2021-01-18T08:45:26.688956Z",
     "iopub.status.idle": "2021-01-18T08:45:26.706302Z",
     "shell.execute_reply": "2021-01-18T08:45:26.707172Z"
    },
    "papermill": {
     "duration": 0.108689,
     "end_time": "2021-01-18T08:45:26.707355",
     "exception": false,
     "start_time": "2021-01-18T08:45:26.598666",
     "status": "completed"
    },
    "tags": []
   },
   "outputs": [],
   "source": [
    "# column transformer\n",
    "\n",
    "from sklearn.compose import ColumnTransformer"
   ]
  },
  {
   "cell_type": "code",
   "execution_count": 40,
   "metadata": {
    "execution": {
     "iopub.execute_input": "2021-01-18T08:45:26.888806Z",
     "iopub.status.busy": "2021-01-18T08:45:26.887917Z",
     "iopub.status.idle": "2021-01-18T08:45:26.894521Z",
     "shell.execute_reply": "2021-01-18T08:45:26.895171Z"
    },
    "papermill": {
     "duration": 0.100621,
     "end_time": "2021-01-18T08:45:26.895339",
     "exception": false,
     "start_time": "2021-01-18T08:45:26.794718",
     "status": "completed"
    },
    "tags": []
   },
   "outputs": [
    {
     "name": "stdout",
     "output_type": "stream",
     "text": [
      "['fixed acidity', 'volatile acidity', 'citric acid', 'residual sugar', 'chlorides', 'free sulfur dioxide', 'total sulfur dioxide', 'density', 'pH', 'sulphates', 'alcohol']\n",
      "['quality']\n"
     ]
    }
   ],
   "source": [
    "num_attribs = list(X_scaled)\n",
    "print(num_attribs)\n",
    "cat_attribs = [\"quality\"]\n",
    "print(cat_attribs)"
   ]
  },
  {
   "cell_type": "code",
   "execution_count": 41,
   "metadata": {
    "execution": {
     "iopub.execute_input": "2021-01-18T08:45:27.082195Z",
     "iopub.status.busy": "2021-01-18T08:45:27.081238Z",
     "iopub.status.idle": "2021-01-18T08:45:27.086915Z",
     "shell.execute_reply": "2021-01-18T08:45:27.086348Z"
    },
    "papermill": {
     "duration": 0.103269,
     "end_time": "2021-01-18T08:45:27.087034",
     "exception": false,
     "start_time": "2021-01-18T08:45:26.983765",
     "status": "completed"
    },
    "tags": []
   },
   "outputs": [
    {
     "data": {
      "text/plain": "Index(['fixed acidity', 'volatile acidity', 'citric acid', 'residual sugar',\n       'chlorides', 'free sulfur dioxide', 'total sulfur dioxide', 'density',\n       'pH', 'sulphates', 'alcohol'],\n      dtype='object')"
     },
     "execution_count": 41,
     "metadata": {},
     "output_type": "execute_result"
    }
   ],
   "source": [
    "X_scaled.columns"
   ]
  },
  {
   "cell_type": "code",
   "execution_count": 42,
   "metadata": {
    "execution": {
     "iopub.execute_input": "2021-01-18T08:45:27.220603Z",
     "iopub.status.busy": "2021-01-18T08:45:27.219642Z",
     "iopub.status.idle": "2021-01-18T08:45:27.234982Z",
     "shell.execute_reply": "2021-01-18T08:45:27.234308Z"
    },
    "papermill": {
     "duration": 0.088728,
     "end_time": "2021-01-18T08:45:27.235096",
     "exception": false,
     "start_time": "2021-01-18T08:45:27.146368",
     "status": "completed"
    },
    "tags": []
   },
   "outputs": [],
   "source": [
    "full_pipeline = ColumnTransformer([\n",
    "(\"num\", num_pipeline, num_attribs),\n",
    "(\"cat\", OneHotEncoder(), cat_attribs),\n",
    "])\n",
    "wine_prepared = full_pipeline.fit_transform(X_unscaled)"
   ]
  },
  {
   "cell_type": "code",
   "execution_count": 43,
   "metadata": {
    "execution": {
     "iopub.execute_input": "2021-01-18T08:45:27.361028Z",
     "iopub.status.busy": "2021-01-18T08:45:27.360194Z",
     "iopub.status.idle": "2021-01-18T08:45:27.366302Z",
     "shell.execute_reply": "2021-01-18T08:45:27.365601Z"
    },
    "papermill": {
     "duration": 0.070831,
     "end_time": "2021-01-18T08:45:27.366417",
     "exception": false,
     "start_time": "2021-01-18T08:45:27.295586",
     "status": "completed"
    },
    "tags": []
   },
   "outputs": [],
   "source": [
    "wine_prepared = pd.DataFrame(wine_prepared)"
   ]
  },
  {
   "cell_type": "code",
   "execution_count": 44,
   "metadata": {
    "execution": {
     "iopub.execute_input": "2021-01-18T08:45:27.493186Z",
     "iopub.status.busy": "2021-01-18T08:45:27.492318Z",
     "iopub.status.idle": "2021-01-18T08:45:27.497245Z",
     "shell.execute_reply": "2021-01-18T08:45:27.496389Z"
    },
    "papermill": {
     "duration": 0.071364,
     "end_time": "2021-01-18T08:45:27.497375",
     "exception": false,
     "start_time": "2021-01-18T08:45:27.426011",
     "status": "completed"
    },
    "tags": []
   },
   "outputs": [
    {
     "data": {
      "text/plain": "(6463, 18)"
     },
     "execution_count": 44,
     "metadata": {},
     "output_type": "execute_result"
    }
   ],
   "source": [
    "wine_prepared.shape"
   ]
  },
  {
   "cell_type": "code",
   "execution_count": 45,
   "metadata": {
    "execution": {
     "iopub.execute_input": "2021-01-18T08:45:27.707046Z",
     "iopub.status.busy": "2021-01-18T08:45:27.698832Z",
     "iopub.status.idle": "2021-01-18T08:45:27.713873Z",
     "shell.execute_reply": "2021-01-18T08:45:27.713345Z"
    },
    "papermill": {
     "duration": 0.126448,
     "end_time": "2021-01-18T08:45:27.713988",
     "exception": false,
     "start_time": "2021-01-18T08:45:27.587540",
     "status": "completed"
    },
    "tags": []
   },
   "outputs": [
    {
     "data": {
      "text/plain": "          0         1         2         3         4         5         6  \\\n0 -0.167786 -0.422710  0.283959  3.207420 -0.315228  0.815609  0.960779   \n1 -0.707155 -0.240479  0.146257 -0.808151 -0.201180 -0.930138  0.288479   \n2  0.679794 -0.361966  0.559363  0.306117 -0.172668 -0.029107 -0.330745   \n3 -0.013681 -0.665684  0.008554  0.642500  0.055427  0.928238  1.243853   \n4 -0.013681 -0.665684  0.008554  0.642500  0.055427  0.928238  1.243853   \n\n          7         8         9        10   11   12   13   14   15   16   17  \n0  2.099926 -1.359160 -0.544987 -1.418922  0.0  0.0  0.0  1.0  0.0  0.0  0.0  \n1 -0.232465  0.508399 -0.276354 -0.832184  0.0  0.0  0.0  1.0  0.0  0.0  0.0  \n2  0.134053  0.259391 -0.612146 -0.329265  0.0  0.0  0.0  1.0  0.0  0.0  0.0  \n3  0.300653 -0.176373 -0.880779 -0.496905  0.0  0.0  0.0  1.0  0.0  0.0  0.0  \n4  0.300653 -0.176373 -0.880779 -0.496905  0.0  0.0  0.0  1.0  0.0  0.0  0.0  ",
      "text/html": "<div>\n<style scoped>\n    .dataframe tbody tr th:only-of-type {\n        vertical-align: middle;\n    }\n\n    .dataframe tbody tr th {\n        vertical-align: top;\n    }\n\n    .dataframe thead th {\n        text-align: right;\n    }\n</style>\n<table border=\"1\" class=\"dataframe\">\n  <thead>\n    <tr style=\"text-align: right;\">\n      <th></th>\n      <th>0</th>\n      <th>1</th>\n      <th>2</th>\n      <th>3</th>\n      <th>4</th>\n      <th>5</th>\n      <th>6</th>\n      <th>7</th>\n      <th>8</th>\n      <th>9</th>\n      <th>10</th>\n      <th>11</th>\n      <th>12</th>\n      <th>13</th>\n      <th>14</th>\n      <th>15</th>\n      <th>16</th>\n      <th>17</th>\n    </tr>\n  </thead>\n  <tbody>\n    <tr>\n      <th>0</th>\n      <td>-0.167786</td>\n      <td>-0.422710</td>\n      <td>0.283959</td>\n      <td>3.207420</td>\n      <td>-0.315228</td>\n      <td>0.815609</td>\n      <td>0.960779</td>\n      <td>2.099926</td>\n      <td>-1.359160</td>\n      <td>-0.544987</td>\n      <td>-1.418922</td>\n      <td>0.0</td>\n      <td>0.0</td>\n      <td>0.0</td>\n      <td>1.0</td>\n      <td>0.0</td>\n      <td>0.0</td>\n      <td>0.0</td>\n    </tr>\n    <tr>\n      <th>1</th>\n      <td>-0.707155</td>\n      <td>-0.240479</td>\n      <td>0.146257</td>\n      <td>-0.808151</td>\n      <td>-0.201180</td>\n      <td>-0.930138</td>\n      <td>0.288479</td>\n      <td>-0.232465</td>\n      <td>0.508399</td>\n      <td>-0.276354</td>\n      <td>-0.832184</td>\n      <td>0.0</td>\n      <td>0.0</td>\n      <td>0.0</td>\n      <td>1.0</td>\n      <td>0.0</td>\n      <td>0.0</td>\n      <td>0.0</td>\n    </tr>\n    <tr>\n      <th>2</th>\n      <td>0.679794</td>\n      <td>-0.361966</td>\n      <td>0.559363</td>\n      <td>0.306117</td>\n      <td>-0.172668</td>\n      <td>-0.029107</td>\n      <td>-0.330745</td>\n      <td>0.134053</td>\n      <td>0.259391</td>\n      <td>-0.612146</td>\n      <td>-0.329265</td>\n      <td>0.0</td>\n      <td>0.0</td>\n      <td>0.0</td>\n      <td>1.0</td>\n      <td>0.0</td>\n      <td>0.0</td>\n      <td>0.0</td>\n    </tr>\n    <tr>\n      <th>3</th>\n      <td>-0.013681</td>\n      <td>-0.665684</td>\n      <td>0.008554</td>\n      <td>0.642500</td>\n      <td>0.055427</td>\n      <td>0.928238</td>\n      <td>1.243853</td>\n      <td>0.300653</td>\n      <td>-0.176373</td>\n      <td>-0.880779</td>\n      <td>-0.496905</td>\n      <td>0.0</td>\n      <td>0.0</td>\n      <td>0.0</td>\n      <td>1.0</td>\n      <td>0.0</td>\n      <td>0.0</td>\n      <td>0.0</td>\n    </tr>\n    <tr>\n      <th>4</th>\n      <td>-0.013681</td>\n      <td>-0.665684</td>\n      <td>0.008554</td>\n      <td>0.642500</td>\n      <td>0.055427</td>\n      <td>0.928238</td>\n      <td>1.243853</td>\n      <td>0.300653</td>\n      <td>-0.176373</td>\n      <td>-0.880779</td>\n      <td>-0.496905</td>\n      <td>0.0</td>\n      <td>0.0</td>\n      <td>0.0</td>\n      <td>1.0</td>\n      <td>0.0</td>\n      <td>0.0</td>\n      <td>0.0</td>\n    </tr>\n  </tbody>\n</table>\n</div>"
     },
     "execution_count": 45,
     "metadata": {},
     "output_type": "execute_result"
    }
   ],
   "source": [
    "wine_prepared.head()"
   ]
  },
  {
   "cell_type": "code",
   "execution_count": 46,
   "metadata": {
    "execution": {
     "iopub.execute_input": "2021-01-18T08:45:27.844226Z",
     "iopub.status.busy": "2021-01-18T08:45:27.843376Z",
     "iopub.status.idle": "2021-01-18T08:45:27.849638Z",
     "shell.execute_reply": "2021-01-18T08:45:27.848920Z"
    },
    "papermill": {
     "duration": 0.074254,
     "end_time": "2021-01-18T08:45:27.849755",
     "exception": false,
     "start_time": "2021-01-18T08:45:27.775501",
     "status": "completed"
    },
    "tags": []
   },
   "outputs": [],
   "source": [
    "wine_prepared.columns = [\"fixed acidity\",\"volatile acidity\",\"citric acid\",\"residual sugar\",\"chlorides\",\"free sulfur dioxide\",\"total sulfur dioxide\",\"density\",\"pH\",\"sulphates\",\"alcohol\",\"3\",\"4\",\"5\",\"6\",\"7\",\"8\",\"9\"]"
   ]
  },
  {
   "cell_type": "code",
   "execution_count": 47,
   "metadata": {
    "execution": {
     "iopub.execute_input": "2021-01-18T08:45:28.004764Z",
     "iopub.status.busy": "2021-01-18T08:45:27.997596Z",
     "iopub.status.idle": "2021-01-18T08:45:28.012682Z",
     "shell.execute_reply": "2021-01-18T08:45:28.011766Z"
    },
    "papermill": {
     "duration": 0.102299,
     "end_time": "2021-01-18T08:45:28.012798",
     "exception": false,
     "start_time": "2021-01-18T08:45:27.910499",
     "status": "completed"
    },
    "tags": []
   },
   "outputs": [
    {
     "data": {
      "text/plain": "   fixed acidity  volatile acidity  citric acid  residual sugar  chlorides  \\\n0      -0.167786         -0.422710     0.283959        3.207420  -0.315228   \n1      -0.707155         -0.240479     0.146257       -0.808151  -0.201180   \n2       0.679794         -0.361966     0.559363        0.306117  -0.172668   \n3      -0.013681         -0.665684     0.008554        0.642500   0.055427   \n4      -0.013681         -0.665684     0.008554        0.642500   0.055427   \n\n   free sulfur dioxide  total sulfur dioxide   density        pH  sulphates  \\\n0             0.815609              0.960779  2.099926 -1.359160  -0.544987   \n1            -0.930138              0.288479 -0.232465  0.508399  -0.276354   \n2            -0.029107             -0.330745  0.134053  0.259391  -0.612146   \n3             0.928238              1.243853  0.300653 -0.176373  -0.880779   \n4             0.928238              1.243853  0.300653 -0.176373  -0.880779   \n\n    alcohol    3    4    5    6    7    8    9  \n0 -1.418922  0.0  0.0  0.0  1.0  0.0  0.0  0.0  \n1 -0.832184  0.0  0.0  0.0  1.0  0.0  0.0  0.0  \n2 -0.329265  0.0  0.0  0.0  1.0  0.0  0.0  0.0  \n3 -0.496905  0.0  0.0  0.0  1.0  0.0  0.0  0.0  \n4 -0.496905  0.0  0.0  0.0  1.0  0.0  0.0  0.0  ",
      "text/html": "<div>\n<style scoped>\n    .dataframe tbody tr th:only-of-type {\n        vertical-align: middle;\n    }\n\n    .dataframe tbody tr th {\n        vertical-align: top;\n    }\n\n    .dataframe thead th {\n        text-align: right;\n    }\n</style>\n<table border=\"1\" class=\"dataframe\">\n  <thead>\n    <tr style=\"text-align: right;\">\n      <th></th>\n      <th>fixed acidity</th>\n      <th>volatile acidity</th>\n      <th>citric acid</th>\n      <th>residual sugar</th>\n      <th>chlorides</th>\n      <th>free sulfur dioxide</th>\n      <th>total sulfur dioxide</th>\n      <th>density</th>\n      <th>pH</th>\n      <th>sulphates</th>\n      <th>alcohol</th>\n      <th>3</th>\n      <th>4</th>\n      <th>5</th>\n      <th>6</th>\n      <th>7</th>\n      <th>8</th>\n      <th>9</th>\n    </tr>\n  </thead>\n  <tbody>\n    <tr>\n      <th>0</th>\n      <td>-0.167786</td>\n      <td>-0.422710</td>\n      <td>0.283959</td>\n      <td>3.207420</td>\n      <td>-0.315228</td>\n      <td>0.815609</td>\n      <td>0.960779</td>\n      <td>2.099926</td>\n      <td>-1.359160</td>\n      <td>-0.544987</td>\n      <td>-1.418922</td>\n      <td>0.0</td>\n      <td>0.0</td>\n      <td>0.0</td>\n      <td>1.0</td>\n      <td>0.0</td>\n      <td>0.0</td>\n      <td>0.0</td>\n    </tr>\n    <tr>\n      <th>1</th>\n      <td>-0.707155</td>\n      <td>-0.240479</td>\n      <td>0.146257</td>\n      <td>-0.808151</td>\n      <td>-0.201180</td>\n      <td>-0.930138</td>\n      <td>0.288479</td>\n      <td>-0.232465</td>\n      <td>0.508399</td>\n      <td>-0.276354</td>\n      <td>-0.832184</td>\n      <td>0.0</td>\n      <td>0.0</td>\n      <td>0.0</td>\n      <td>1.0</td>\n      <td>0.0</td>\n      <td>0.0</td>\n      <td>0.0</td>\n    </tr>\n    <tr>\n      <th>2</th>\n      <td>0.679794</td>\n      <td>-0.361966</td>\n      <td>0.559363</td>\n      <td>0.306117</td>\n      <td>-0.172668</td>\n      <td>-0.029107</td>\n      <td>-0.330745</td>\n      <td>0.134053</td>\n      <td>0.259391</td>\n      <td>-0.612146</td>\n      <td>-0.329265</td>\n      <td>0.0</td>\n      <td>0.0</td>\n      <td>0.0</td>\n      <td>1.0</td>\n      <td>0.0</td>\n      <td>0.0</td>\n      <td>0.0</td>\n    </tr>\n    <tr>\n      <th>3</th>\n      <td>-0.013681</td>\n      <td>-0.665684</td>\n      <td>0.008554</td>\n      <td>0.642500</td>\n      <td>0.055427</td>\n      <td>0.928238</td>\n      <td>1.243853</td>\n      <td>0.300653</td>\n      <td>-0.176373</td>\n      <td>-0.880779</td>\n      <td>-0.496905</td>\n      <td>0.0</td>\n      <td>0.0</td>\n      <td>0.0</td>\n      <td>1.0</td>\n      <td>0.0</td>\n      <td>0.0</td>\n      <td>0.0</td>\n    </tr>\n    <tr>\n      <th>4</th>\n      <td>-0.013681</td>\n      <td>-0.665684</td>\n      <td>0.008554</td>\n      <td>0.642500</td>\n      <td>0.055427</td>\n      <td>0.928238</td>\n      <td>1.243853</td>\n      <td>0.300653</td>\n      <td>-0.176373</td>\n      <td>-0.880779</td>\n      <td>-0.496905</td>\n      <td>0.0</td>\n      <td>0.0</td>\n      <td>0.0</td>\n      <td>1.0</td>\n      <td>0.0</td>\n      <td>0.0</td>\n      <td>0.0</td>\n    </tr>\n  </tbody>\n</table>\n</div>"
     },
     "execution_count": 47,
     "metadata": {},
     "output_type": "execute_result"
    }
   ],
   "source": [
    "wine_prepared.head()"
   ]
  },
  {
   "cell_type": "code",
   "execution_count": 48,
   "metadata": {
    "execution": {
     "iopub.execute_input": "2021-01-18T08:45:28.148939Z",
     "iopub.status.busy": "2021-01-18T08:45:28.148214Z",
     "iopub.status.idle": "2021-01-18T08:45:28.165458Z",
     "shell.execute_reply": "2021-01-18T08:45:28.164879Z"
    },
    "papermill": {
     "duration": 0.089265,
     "end_time": "2021-01-18T08:45:28.165572",
     "exception": false,
     "start_time": "2021-01-18T08:45:28.076307",
     "status": "completed"
    },
    "tags": []
   },
   "outputs": [],
   "source": [
    "# train test split of data\n",
    "\n",
    "X_train,X_test,y_train,y_test = train_test_split(wine_prepared,y,test_size=0.3,random_state=10,stratify=y)\n"
   ]
  },
  {
   "cell_type": "code",
   "execution_count": 49,
   "metadata": {
    "execution": {
     "iopub.execute_input": "2021-01-18T08:45:28.295501Z",
     "iopub.status.busy": "2021-01-18T08:45:28.294587Z",
     "iopub.status.idle": "2021-01-18T08:45:28.301447Z",
     "shell.execute_reply": "2021-01-18T08:45:28.302034Z"
    },
    "papermill": {
     "duration": 0.075229,
     "end_time": "2021-01-18T08:45:28.302210",
     "exception": false,
     "start_time": "2021-01-18T08:45:28.226981",
     "status": "completed"
    },
    "tags": []
   },
   "outputs": [
    {
     "data": {
      "text/plain": "((4524, 18), (4524,), (1939, 18), (1939,))"
     },
     "execution_count": 49,
     "metadata": {},
     "output_type": "execute_result"
    }
   ],
   "source": [
    "X_train.shape,y_train.shape,X_test.shape,y_test.shape"
   ]
  },
  {
   "cell_type": "code",
   "execution_count": 50,
   "metadata": {
    "execution": {
     "iopub.execute_input": "2021-01-18T08:45:28.434820Z",
     "iopub.status.busy": "2021-01-18T08:45:28.433893Z",
     "iopub.status.idle": "2021-01-18T08:45:28.438714Z",
     "shell.execute_reply": "2021-01-18T08:45:28.437875Z"
    },
    "papermill": {
     "duration": 0.073858,
     "end_time": "2021-01-18T08:45:28.438828",
     "exception": false,
     "start_time": "2021-01-18T08:45:28.364970",
     "status": "completed"
    },
    "tags": []
   },
   "outputs": [],
   "source": [
    "model = LogisticRegression() # build model"
   ]
  },
  {
   "cell_type": "code",
   "execution_count": 51,
   "metadata": {
    "execution": {
     "iopub.execute_input": "2021-01-18T08:45:28.590577Z",
     "iopub.status.busy": "2021-01-18T08:45:28.574681Z",
     "iopub.status.idle": "2021-01-18T08:45:28.675360Z",
     "shell.execute_reply": "2021-01-18T08:45:28.674456Z"
    },
    "papermill": {
     "duration": 0.173361,
     "end_time": "2021-01-18T08:45:28.675497",
     "exception": false,
     "start_time": "2021-01-18T08:45:28.502136",
     "status": "completed"
    },
    "tags": []
   },
   "outputs": [
    {
     "data": {
      "text/plain": "LogisticRegression()"
     },
     "execution_count": 51,
     "metadata": {},
     "output_type": "execute_result"
    }
   ],
   "source": [
    "model.fit(X_train,y_train)"
   ]
  },
  {
   "cell_type": "code",
   "execution_count": 52,
   "metadata": {
    "execution": {
     "iopub.execute_input": "2021-01-18T08:45:28.873262Z",
     "iopub.status.busy": "2021-01-18T08:45:28.872391Z",
     "iopub.status.idle": "2021-01-18T08:45:28.899639Z",
     "shell.execute_reply": "2021-01-18T08:45:28.898938Z"
    },
    "papermill": {
     "duration": 0.130365,
     "end_time": "2021-01-18T08:45:28.899792",
     "exception": false,
     "start_time": "2021-01-18T08:45:28.769427",
     "status": "completed"
    },
    "tags": []
   },
   "outputs": [
    {
     "data": {
      "text/plain": "0.9938107869142352"
     },
     "execution_count": 52,
     "metadata": {},
     "output_type": "execute_result"
    }
   ],
   "source": [
    "model.score(X_train,y_train)  # as we can see the model is overfitted"
   ]
  },
  {
   "cell_type": "code",
   "execution_count": 53,
   "metadata": {
    "execution": {
     "iopub.execute_input": "2021-01-18T08:45:29.097305Z",
     "iopub.status.busy": "2021-01-18T08:45:29.096396Z",
     "iopub.status.idle": "2021-01-18T08:45:29.136585Z",
     "shell.execute_reply": "2021-01-18T08:45:29.137352Z"
    },
    "papermill": {
     "duration": 0.14291,
     "end_time": "2021-01-18T08:45:29.137535",
     "exception": false,
     "start_time": "2021-01-18T08:45:28.994625",
     "status": "completed"
    },
    "tags": []
   },
   "outputs": [],
   "source": [
    "from mlxtend.feature_selection import SequentialFeatureSelector  # so we can do sequential feayure selector by rfe\n"
   ]
  },
  {
   "cell_type": "code",
   "execution_count": 54,
   "metadata": {
    "execution": {
     "iopub.execute_input": "2021-01-18T08:45:29.365536Z",
     "iopub.status.busy": "2021-01-18T08:45:29.364680Z",
     "iopub.status.idle": "2021-01-18T08:45:29.472828Z",
     "shell.execute_reply": "2021-01-18T08:45:29.471900Z"
    },
    "papermill": {
     "duration": 0.225894,
     "end_time": "2021-01-18T08:45:29.472972",
     "exception": false,
     "start_time": "2021-01-18T08:45:29.247078",
     "status": "completed"
    },
    "tags": []
   },
   "outputs": [],
   "source": [
    "from sklearn.feature_selection import RFE\n"
   ]
  },
  {
   "cell_type": "code",
   "execution_count": 55,
   "metadata": {
    "execution": {
     "iopub.execute_input": "2021-01-18T08:45:29.669189Z",
     "iopub.status.busy": "2021-01-18T08:45:29.668532Z",
     "iopub.status.idle": "2021-01-18T08:45:29.672057Z",
     "shell.execute_reply": "2021-01-18T08:45:29.671459Z"
    },
    "papermill": {
     "duration": 0.104198,
     "end_time": "2021-01-18T08:45:29.672205",
     "exception": false,
     "start_time": "2021-01-18T08:45:29.568007",
     "status": "completed"
    },
    "tags": []
   },
   "outputs": [],
   "source": [
    "model3 = LogisticRegression()\n"
   ]
  },
  {
   "cell_type": "code",
   "execution_count": 56,
   "metadata": {
    "execution": {
     "iopub.execute_input": "2021-01-18T08:45:29.804480Z",
     "iopub.status.busy": "2021-01-18T08:45:29.803854Z",
     "iopub.status.idle": "2021-01-18T08:45:29.808057Z",
     "shell.execute_reply": "2021-01-18T08:45:29.808662Z"
    },
    "papermill": {
     "duration": 0.073701,
     "end_time": "2021-01-18T08:45:29.808793",
     "exception": false,
     "start_time": "2021-01-18T08:45:29.735092",
     "status": "completed"
    },
    "tags": []
   },
   "outputs": [],
   "source": [
    "rfe = RFE(estimator=model3, step=1,verbose=2)"
   ]
  },
  {
   "cell_type": "code",
   "execution_count": 57,
   "metadata": {
    "execution": {
     "iopub.execute_input": "2021-01-18T08:45:29.943776Z",
     "iopub.status.busy": "2021-01-18T08:45:29.942954Z",
     "iopub.status.idle": "2021-01-18T08:45:30.590142Z",
     "shell.execute_reply": "2021-01-18T08:45:30.589229Z"
    },
    "papermill": {
     "duration": 0.718678,
     "end_time": "2021-01-18T08:45:30.590299",
     "exception": false,
     "start_time": "2021-01-18T08:45:29.871621",
     "status": "completed"
    },
    "tags": []
   },
   "outputs": [
    {
     "name": "stdout",
     "output_type": "stream",
     "text": [
      "Fitting estimator with 18 features.\n",
      "Fitting estimator with 17 features.\n",
      "Fitting estimator with 16 features.\n",
      "Fitting estimator with 15 features.\n",
      "Fitting estimator with 14 features.\n",
      "Fitting estimator with 13 features.\n",
      "Fitting estimator with 12 features.\n",
      "Fitting estimator with 11 features.\n",
      "Fitting estimator with 10 features.\n"
     ]
    },
    {
     "data": {
      "text/plain": "RFE(estimator=LogisticRegression(), verbose=2)"
     },
     "execution_count": 57,
     "metadata": {},
     "output_type": "execute_result"
    }
   ],
   "source": [
    "rfe.fit(X_train,y_train)  "
   ]
  },
  {
   "cell_type": "code",
   "execution_count": 58,
   "metadata": {
    "execution": {
     "iopub.execute_input": "2021-01-18T08:45:30.739589Z",
     "iopub.status.busy": "2021-01-18T08:45:30.738753Z",
     "iopub.status.idle": "2021-01-18T08:45:30.747319Z",
     "shell.execute_reply": "2021-01-18T08:45:30.746498Z"
    },
    "papermill": {
     "duration": 0.090272,
     "end_time": "2021-01-18T08:45:30.747474",
     "exception": false,
     "start_time": "2021-01-18T08:45:30.657202",
     "status": "completed"
    },
    "tags": []
   },
   "outputs": [
    {
     "data": {
      "text/plain": "                Features  Ranking\n1       volatile acidity        1\n12                     4        1\n3         residual sugar        1\n4              chlorides        1\n5    free sulfur dioxide        1\n6   total sulfur dioxide        1\n7                density        1\n10               alcohol        1\n9              sulphates        1\n8                     pH        2\n0          fixed acidity        3\n13                     5        4\n14                     6        5\n2            citric acid        6\n15                     7        7\n11                     3        8\n16                     8        9\n17                     9       10",
      "text/html": "<div>\n<style scoped>\n    .dataframe tbody tr th:only-of-type {\n        vertical-align: middle;\n    }\n\n    .dataframe tbody tr th {\n        vertical-align: top;\n    }\n\n    .dataframe thead th {\n        text-align: right;\n    }\n</style>\n<table border=\"1\" class=\"dataframe\">\n  <thead>\n    <tr style=\"text-align: right;\">\n      <th></th>\n      <th>Features</th>\n      <th>Ranking</th>\n    </tr>\n  </thead>\n  <tbody>\n    <tr>\n      <th>1</th>\n      <td>volatile acidity</td>\n      <td>1</td>\n    </tr>\n    <tr>\n      <th>12</th>\n      <td>4</td>\n      <td>1</td>\n    </tr>\n    <tr>\n      <th>3</th>\n      <td>residual sugar</td>\n      <td>1</td>\n    </tr>\n    <tr>\n      <th>4</th>\n      <td>chlorides</td>\n      <td>1</td>\n    </tr>\n    <tr>\n      <th>5</th>\n      <td>free sulfur dioxide</td>\n      <td>1</td>\n    </tr>\n    <tr>\n      <th>6</th>\n      <td>total sulfur dioxide</td>\n      <td>1</td>\n    </tr>\n    <tr>\n      <th>7</th>\n      <td>density</td>\n      <td>1</td>\n    </tr>\n    <tr>\n      <th>10</th>\n      <td>alcohol</td>\n      <td>1</td>\n    </tr>\n    <tr>\n      <th>9</th>\n      <td>sulphates</td>\n      <td>1</td>\n    </tr>\n    <tr>\n      <th>8</th>\n      <td>pH</td>\n      <td>2</td>\n    </tr>\n    <tr>\n      <th>0</th>\n      <td>fixed acidity</td>\n      <td>3</td>\n    </tr>\n    <tr>\n      <th>13</th>\n      <td>5</td>\n      <td>4</td>\n    </tr>\n    <tr>\n      <th>14</th>\n      <td>6</td>\n      <td>5</td>\n    </tr>\n    <tr>\n      <th>2</th>\n      <td>citric acid</td>\n      <td>6</td>\n    </tr>\n    <tr>\n      <th>15</th>\n      <td>7</td>\n      <td>7</td>\n    </tr>\n    <tr>\n      <th>11</th>\n      <td>3</td>\n      <td>8</td>\n    </tr>\n    <tr>\n      <th>16</th>\n      <td>8</td>\n      <td>9</td>\n    </tr>\n    <tr>\n      <th>17</th>\n      <td>9</td>\n      <td>10</td>\n    </tr>\n  </tbody>\n</table>\n</div>"
     },
     "execution_count": 58,
     "metadata": {},
     "output_type": "execute_result"
    }
   ],
   "source": [
    "selected_rfe_features=pd.DataFrame({\"Features\":list(X_train),\"Ranking\":rfe.ranking_})\n",
    "selected_rfe_features.sort_values(by=\"Ranking\")"
   ]
  },
  {
   "cell_type": "code",
   "execution_count": 59,
   "metadata": {
    "execution": {
     "iopub.execute_input": "2021-01-18T08:45:30.954368Z",
     "iopub.status.busy": "2021-01-18T08:45:30.953418Z",
     "iopub.status.idle": "2021-01-18T08:45:30.959214Z",
     "shell.execute_reply": "2021-01-18T08:45:30.959878Z"
    },
    "papermill": {
     "duration": 0.113547,
     "end_time": "2021-01-18T08:45:30.960057",
     "exception": false,
     "start_time": "2021-01-18T08:45:30.846510",
     "status": "completed"
    },
    "tags": []
   },
   "outputs": [
    {
     "data": {
      "text/plain": "(4524, 9)"
     },
     "execution_count": 59,
     "metadata": {},
     "output_type": "execute_result"
    }
   ],
   "source": [
    "X_train_rfe = rfe.transform(X_train)\n",
    "\n",
    "X_train_rfe.shape"
   ]
  },
  {
   "cell_type": "code",
   "execution_count": 60,
   "metadata": {
    "execution": {
     "iopub.execute_input": "2021-01-18T08:45:31.170373Z",
     "iopub.status.busy": "2021-01-18T08:45:31.169063Z",
     "iopub.status.idle": "2021-01-18T08:45:31.200796Z",
     "shell.execute_reply": "2021-01-18T08:45:31.199943Z"
    },
    "papermill": {
     "duration": 0.139393,
     "end_time": "2021-01-18T08:45:31.200939",
     "exception": false,
     "start_time": "2021-01-18T08:45:31.061546",
     "status": "completed"
    },
    "tags": []
   },
   "outputs": [
    {
     "data": {
      "text/plain": "LogisticRegression()"
     },
     "execution_count": 60,
     "metadata": {},
     "output_type": "execute_result"
    }
   ],
   "source": [
    "model3.fit(X_train_rfe, y_train)"
   ]
  },
  {
   "cell_type": "code",
   "execution_count": 61,
   "metadata": {
    "execution": {
     "iopub.execute_input": "2021-01-18T08:45:31.417612Z",
     "iopub.status.busy": "2021-01-18T08:45:31.416669Z",
     "iopub.status.idle": "2021-01-18T08:45:31.424150Z",
     "shell.execute_reply": "2021-01-18T08:45:31.423418Z"
    },
    "papermill": {
     "duration": 0.12272,
     "end_time": "2021-01-18T08:45:31.424293",
     "exception": false,
     "start_time": "2021-01-18T08:45:31.301573",
     "status": "completed"
    },
    "tags": []
   },
   "outputs": [
    {
     "data": {
      "text/plain": "0.9946949602122016"
     },
     "execution_count": 61,
     "metadata": {},
     "output_type": "execute_result"
    }
   ],
   "source": [
    "r2_rfe = model3.score(X_train_rfe, y_train)\n",
    "r2_rfe"
   ]
  },
  {
   "cell_type": "code",
   "execution_count": 62,
   "metadata": {
    "execution": {
     "iopub.execute_input": "2021-01-18T08:45:31.634743Z",
     "iopub.status.busy": "2021-01-18T08:45:31.633827Z",
     "iopub.status.idle": "2021-01-18T08:45:31.639071Z",
     "shell.execute_reply": "2021-01-18T08:45:31.638471Z"
    },
    "papermill": {
     "duration": 0.112419,
     "end_time": "2021-01-18T08:45:31.639216",
     "exception": false,
     "start_time": "2021-01-18T08:45:31.526797",
     "status": "completed"
    },
    "tags": []
   },
   "outputs": [
    {
     "data": {
      "text/plain": "array(['red', 'white', 'white', 'white', 'white', 'red', 'white', 'white',\n       'red', 'white'], dtype=object)"
     },
     "execution_count": 62,
     "metadata": {},
     "output_type": "execute_result"
    }
   ],
   "source": [
    "y_pred_train = model3.predict(X_train_rfe)\n",
    "y_pred_train[:10]"
   ]
  },
  {
   "cell_type": "code",
   "execution_count": 63,
   "metadata": {
    "execution": {
     "iopub.execute_input": "2021-01-18T08:45:31.800503Z",
     "iopub.status.busy": "2021-01-18T08:45:31.799589Z",
     "iopub.status.idle": "2021-01-18T08:45:31.806834Z",
     "shell.execute_reply": "2021-01-18T08:45:31.807401Z"
    },
    "papermill": {
     "duration": 0.100148,
     "end_time": "2021-01-18T08:45:31.807545",
     "exception": false,
     "start_time": "2021-01-18T08:45:31.707397",
     "status": "completed"
    },
    "tags": []
   },
   "outputs": [
    {
     "data": {
      "text/plain": "array([[1100,   15],\n       [   9, 3400]], dtype=int64)"
     },
     "execution_count": 63,
     "metadata": {},
     "output_type": "execute_result"
    }
   ],
   "source": [
    "confusion_matrix(y_train,y_pred_train)"
   ]
  },
  {
   "cell_type": "code",
   "execution_count": 64,
   "metadata": {
    "execution": {
     "iopub.execute_input": "2021-01-18T08:45:32.034807Z",
     "iopub.status.busy": "2021-01-18T08:45:31.998841Z",
     "iopub.status.idle": "2021-01-18T08:45:32.107768Z",
     "shell.execute_reply": "2021-01-18T08:45:32.106768Z"
    },
    "papermill": {
     "duration": 0.231212,
     "end_time": "2021-01-18T08:45:32.107912",
     "exception": false,
     "start_time": "2021-01-18T08:45:31.876700",
     "status": "completed"
    },
    "tags": []
   },
   "outputs": [
    {
     "name": "stdout",
     "output_type": "stream",
     "text": [
      "              precision    recall  f1-score   support\n",
      "\n",
      "         red       0.99      0.99      0.99      1115\n",
      "       white       1.00      1.00      1.00      3409\n",
      "\n",
      "    accuracy                           0.99      4524\n",
      "   macro avg       0.99      0.99      0.99      4524\n",
      "weighted avg       0.99      0.99      0.99      4524\n",
      "\n"
     ]
    }
   ],
   "source": [
    "summary=classification_report(y_train,y_pred_train)\n",
    "print(summary)"
   ]
  },
  {
   "cell_type": "code",
   "execution_count": 64,
   "metadata": {
    "papermill": {
     "duration": 0.104789,
     "end_time": "2021-01-18T08:45:32.317542",
     "exception": false,
     "start_time": "2021-01-18T08:45:32.212753",
     "status": "completed"
    },
    "tags": []
   },
   "outputs": [],
   "source": []
  }
 ],
 "metadata": {
  "kernelspec": {
   "display_name": "Python 3",
   "language": "python",
   "name": "python3"
  },
  "language_info": {
   "codemirror_mode": {
    "name": "ipython",
    "version": 3
   },
   "file_extension": ".py",
   "mimetype": "text/x-python",
   "name": "python",
   "nbconvert_exporter": "python",
   "pygments_lexer": "ipython3",
   "version": "3.7.6"
  },
  "papermill": {
   "duration": 22.933154,
   "end_time": "2021-01-18T08:45:32.533361",
   "environment_variables": {},
   "exception": null,
   "input_path": "__notebook__.ipynb",
   "output_path": "__notebook__.ipynb",
   "parameters": {},
   "start_time": "2021-01-18T08:45:09.600207",
   "version": "2.1.0"
  }
 },
 "nbformat": 4,
 "nbformat_minor": 4
}